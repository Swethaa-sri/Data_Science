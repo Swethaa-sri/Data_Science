{
  "nbformat": 4,
  "nbformat_minor": 0,
  "metadata": {
    "colab": {
      "name": "registr_login_task",
      "provenance": [],
      "authorship_tag": "ABX9TyMe7GU4V0ocAwSHKahsnT4t",
      "include_colab_link": true
    },
    "kernelspec": {
      "name": "python3",
      "display_name": "Python 3"
    },
    "language_info": {
      "name": "python"
    }
  },
  "cells": [
    {
      "cell_type": "markdown",
      "metadata": {
        "id": "view-in-github",
        "colab_type": "text"
      },
      "source": [
        "<a href=\"https://colab.research.google.com/github/Swethaa-sri/Data_Science/blob/main/registr_login_task.ipynb\" target=\"_parent\"><img src=\"https://colab.research.google.com/assets/colab-badge.svg\" alt=\"Open In Colab\"/></a>"
      ]
    },
    {
      "cell_type": "code",
      "metadata": {
        "colab": {
          "base_uri": "https://localhost:8080/"
        },
        "id": "7Eu4LlMDSeT8",
        "outputId": "24bd21ce-57fc-4ccf-f0af-f33943b0cf8a"
      },
      "source": [
        "# Registration\n",
        "a = input('username : ')\n",
        "b = list(a)\n",
        "s = b[0].isalpha()\n",
        "if '@' not in b and '.' not in b :\n",
        "  print('no')\n",
        "else:\n",
        "  checks = ['@' in b, b.index('@') < b.index('.'),b.index('@')-b.index('.')!=-1,s == True,b[0] != '@']\n",
        "  print(checks)\n",
        "\n",
        "if all(checks):\n",
        "  p = input(\"enter password :  \")  \n",
        "else:\n",
        "  print('invalid')\n",
        "\n",
        "if len(p) <= 16 and len(p) >= 5:\n",
        "  print('good length')\n",
        "else:\n",
        "  print('Too small')  \n",
        "special = []\n",
        "num = []\n",
        "up = []\n",
        "low = []\n",
        "\n",
        "for i in p:\n",
        "  if i.isnumeric() == False and i.isalpha() == False:\n",
        "    special.append(i)\n",
        "  if i.isdigit() == True:\n",
        "    num.append(i)\n",
        "\n",
        "  if i.isupper() == True:\n",
        "    up.append(i)\n",
        "  if i.islower() == True:\n",
        "    low.append(i)\n",
        "\n",
        "p_checks = [len(num) >= 1, len(special) >= 1, len(up)>= 1, len(low)>= 1]\n",
        "print(p_checks)\n",
        "   \n",
        "len_false = p_checks.count(False)\n",
        "print(len_false)    \n",
        "\n",
        "if all(p_checks):\n",
        "  print('strong')\n",
        "\n",
        "elif len_false == 1:\n",
        "  if p_checks[0] == False:\n",
        "    print('password must have minimum one digit')\n",
        "  if p_checks[1] == False:\n",
        "    print('password must have minimum one special character')\n",
        "  if p_checks[2] == False:\n",
        "    print('password must have minimum one uppercase ')\n",
        "  if p_checks[3] == False:\n",
        "    print('password must have minimum one lowercase')\n",
        "\n",
        "elif len_false == 2:\n",
        "  if p_checks[0] == False and p_checks[1] == False:\n",
        "    print('password must have atleast one digit' '\\n' \n",
        "         'and one special character')\n",
        "\n",
        "  if p_checks[0] == False and p_checks[2] == False:\n",
        "    print('password must have atleast one digit and one uppercase letter')\n",
        "\n",
        "  if p_checks[0] == False and p_checks[3] == False:\n",
        "    print('password must have atleast one digit and one lowercase letter')\n",
        "\n",
        "  if p_checks[1] == False and p_checks[2] == False:\n",
        "    print('password must have atleast one special character and one uppercase letter')\n",
        "\n",
        "  if p_checks[1] == False and p_checks[3] == False:\n",
        "    print('password must have atleast one special character and one lowercase letter')\n",
        "\n",
        "  if p_checks[2] == False and p_checks[3] == False:\n",
        "    print('password must have atleast one uppercase letter and one lowercase letter')\n",
        "\n",
        "elif len_false == 3:\n",
        "  if p_checks[0] == False and p_checks[1] == False and p_checks[2] == False:\n",
        "    print('password must have atleast one digit, one special character, one uppercase letter')\n",
        "  \n",
        "  if p_checks[0] == False and p_checks[1] == False and p_checks[3] == False:\n",
        "    print('password must have atleast one digit, one special character, one lowercase letter')\n",
        "  \n",
        "  if p_checks[0] == False and p_checks[2] == False and p_checks[3] == False:\n",
        "    print('password must have atleast one digit, one uppercase letter, one lowercase letter')\n",
        "  \n",
        "  if p_checks[1] == False and p_checks[2] == False and p_checks[3] == False:\n",
        "    print('password must have atleast one special character, one uppercase letter, one lowercase letter')\n"
      ],
      "execution_count": null,
      "outputs": [
        {
          "output_type": "stream",
          "name": "stdout",
          "text": [
            "username : r@gmail.com\n",
            "[True, True, True, True, True]\n",
            "enter password :  fg()34HJ\n",
            "good length\n",
            "[True, True, True, True]\n",
            "0\n",
            "strong\n"
          ]
        }
      ]
    },
    {
      "cell_type": "code",
      "metadata": {
        "colab": {
          "base_uri": "https://localhost:8080/"
        },
        "id": "PjZ3OWEMTXXY",
        "outputId": "b2212bcb-9339-4da9-dfd5-91e9b559870f"
      },
      "source": [
        "!pwd"
      ],
      "execution_count": null,
      "outputs": [
        {
          "output_type": "stream",
          "name": "stdout",
          "text": [
            "/content\n"
          ]
        }
      ]
    },
    {
      "cell_type": "code",
      "metadata": {
        "id": "p_8JYOnXTgWj"
      },
      "source": [
        "!mkdir register"
      ],
      "execution_count": null,
      "outputs": []
    },
    {
      "cell_type": "code",
      "metadata": {
        "id": "sVhMRse4Tk2_"
      },
      "source": [
        "!cd register"
      ],
      "execution_count": null,
      "outputs": []
    },
    {
      "cell_type": "code",
      "metadata": {
        "id": "ZB_kI9GcTpFJ"
      },
      "source": [
        "f = open(\"file_2.txt\",\"x\")\n",
        "f.close()"
      ],
      "execution_count": null,
      "outputs": []
    },
    {
      "cell_type": "code",
      "metadata": {
        "id": "gBspHp4bTu8A"
      },
      "source": [
        "f = open(\"file_2.txt\",\"w\")\n",
        "f.write(\"username : password\")\n",
        "f.close()"
      ],
      "execution_count": null,
      "outputs": []
    },
    {
      "cell_type": "code",
      "metadata": {
        "id": "kEJcA56tT0xF"
      },
      "source": [
        "f = open(\"file_2.txt\",\"a\")\n",
        "f.write(\"\\n\")\n",
        "f.write(a)\n",
        "f.close()"
      ],
      "execution_count": null,
      "outputs": []
    },
    {
      "cell_type": "code",
      "metadata": {
        "id": "cqcTAcgtT2Tb"
      },
      "source": [
        "f = open(\"file_2.txt\",\"a\")\n",
        "f.write(\" \")\n",
        "f.close()"
      ],
      "execution_count": null,
      "outputs": []
    },
    {
      "cell_type": "code",
      "metadata": {
        "id": "ZS2l91kgT5MP"
      },
      "source": [
        "f = open(\"file_2.txt\",\"a\")\n",
        "f.write(p)\n",
        "f.close()"
      ],
      "execution_count": null,
      "outputs": []
    },
    {
      "cell_type": "code",
      "metadata": {
        "colab": {
          "base_uri": "https://localhost:8080/"
        },
        "id": "3zUZ7ZgXT83A",
        "outputId": "3f10ffa3-b1c7-4308-fc2b-7c5afd82ad8e"
      },
      "source": [
        "# login\n",
        "login_user = input(\"username : \")\n",
        "login_password = input(\"password : \")\n",
        "\n",
        "for line in open(\"file_2.txt\"):\n",
        "  s1 = line.split()\n",
        "if login_user in s1 and login_password in s1:\n",
        "  print(\"hi, welcome\")\n",
        "\n",
        "if login_user in s1 and login_password not in s1:\n",
        "  print(\"invalid password\")\n",
        "  print(\"forgot password enter 'forgot'\")\n",
        "  k = input('password : ')\n",
        "  if k == 'forgot':\n",
        "    print(\"your password : \",s1[-1])\n",
        "  if k in s1:\n",
        "    print(\"hi, welcome\")\n",
        "\n",
        "if login_user not in s1 and login_password in s1:\n",
        "  print(\"invalid username\")  \n",
        "\n",
        "if login_user not in s1 and login_password not in s1:\n",
        "  print(\"username doesn't exist\")\n",
        "  print(\"please register\")    \n",
        "\n",
        "      \n"
      ],
      "execution_count": null,
      "outputs": [
        {
          "output_type": "stream",
          "name": "stdout",
          "text": [
            "username : fr@gmail.com\n",
            "password : fg()34HJ\n",
            "invalid username\n"
          ]
        }
      ]
    },
    {
      "cell_type": "code",
      "metadata": {
        "colab": {
          "base_uri": "https://localhost:8080/"
        },
        "id": "os5qohaAX5jt",
        "outputId": "a8a077c0-b6f2-4d8c-b44c-b02375cf2a7e"
      },
      "source": [
        ""
      ],
      "execution_count": null,
      "outputs": [
        {
          "name": "stdout",
          "output_type": "stream",
          "text": [
            "\n"
          ]
        }
      ]
    }
  ]
}