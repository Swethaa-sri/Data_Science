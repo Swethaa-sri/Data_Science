{
  "nbformat": 4,
  "nbformat_minor": 0,
  "metadata": {
    "colab": {
      "name": "Numpy_task_d15",
      "provenance": [],
      "collapsed_sections": [
        "nBWFp43OxPvJ",
        "i4ms3LjzxuEt",
        "uvmYAoDvx5Zo",
        "cNphlC_2yLdR",
        "3bWwIWVOyUgK",
        "pEDe1bo7yjn_",
        "u-Vj7tc92l5J",
        "4aJ2HOIj54LH",
        "Y9Zu0ifO7Uli",
        "DHYTAzkR_GEf",
        "JOjsOMuwDCNW",
        "Ad865AatEBv7",
        "CmpgQeghF0EF",
        "U3lfId2uIIN6",
        "y0uhp-sZYx13",
        "rzWNS-bYbNio",
        "u28ACGhEhYHm",
        "R7t6-9dAkS8j",
        "vdlPkCwQ4MRp",
        "I-KilIJ05Ok-",
        "GS1zXkALZ_wE",
        "qzksfFWUkX1R",
        "M3yNI00PlDQe",
        "OxrCmFwQorlM",
        "UekSoXzPpx2d",
        "opUl90EptrET",
        "SarLRoZewcXE",
        "5L7KyYonxIbH",
        "8YBcjPtVzBjk",
        "FoyvZmyWOps2",
        "zYU89WSCPEFB",
        "uTh54cREX9Oy",
        "xLALqlTyY7uy",
        "0TerBJyZZ2Xe",
        "M72JgH-ZdgL9",
        "8NKrd65MeKJr",
        "W_KHPhKFguj0",
        "LxR39ot5j70f",
        "ZrdC2OAPmKqH",
        "fDGfRGbznuSm",
        "1fier8lzqbPF",
        "z3qXaE8Msiwj",
        "JcZ_gVhY3LMl",
        "u-E3p3pA7XGO",
        "tg56hp3lJIxx",
        "PJdHBvAHLg14",
        "Ps5DTGZTPnJS",
        "xZxAVDYPYB0A",
        "rUzE6EWnnI4M",
        "A93cHW1u4hEi",
        "rLrCBm6S7r6J",
        "UcLi-5Om93Qn",
        "nDMMtVwQFCOO",
        "djxctuDSIbHR",
        "Ri_lGNn1Rc7j",
        "HVhqkX-dSyKA",
        "C6e4benUVJjT",
        "1xmvsiaKqM33",
        "moPodJ2R82s0",
        "Twwmq_zg84aR",
        "n52TYlEA_MTS",
        "a9PnzYsLAAuQ",
        "ZEm8dBSYA1T0",
        "UG_IErbwIAmm",
        "TivkllFZJPM5",
        "80SoJBmlWF7t"
      ],
      "authorship_tag": "ABX9TyOhO5ytzveq+KMeaQOnNg9J",
      "include_colab_link": true
    },
    "kernelspec": {
      "name": "python3",
      "display_name": "Python 3"
    },
    "language_info": {
      "name": "python"
    }
  },
  "cells": [
    {
      "cell_type": "markdown",
      "metadata": {
        "id": "view-in-github",
        "colab_type": "text"
      },
      "source": [
        "<a href=\"https://colab.research.google.com/github/Swethaa-sri/Data_Science/blob/main/Numpy_task_d15.ipynb\" target=\"_parent\"><img src=\"https://colab.research.google.com/assets/colab-badge.svg\" alt=\"Open In Colab\"/></a>"
      ]
    },
    {
      "cell_type": "markdown",
      "source": [
        "\n",
        "##Numpy"
      ],
      "metadata": {
        "id": "skgHSwxxvTzm"
      }
    },
    {
      "cell_type": "markdown",
      "source": [
        "#### 1. Import the numpy package under the name `np` (★☆☆) \n",
        "(**hint**: import … as …)"
      ],
      "metadata": {
        "id": "5aq1QPcKveYv"
      }
    },
    {
      "cell_type": "code",
      "execution_count": null,
      "metadata": {
        "id": "OpOk4zeUvMRI"
      },
      "outputs": [],
      "source": [
        "import numpy as np"
      ]
    },
    {
      "cell_type": "markdown",
      "source": [
        "#### 2. Print the numpy version and the configuration (★☆☆) \n",
        "(**hint**: np.\\_\\_version\\_\\_, np.show\\_config)"
      ],
      "metadata": {
        "id": "W5LuV3f_vn-5"
      }
    },
    {
      "cell_type": "code",
      "source": [
        "np.__version__"
      ],
      "metadata": {
        "colab": {
          "base_uri": "https://localhost:8080/",
          "height": 35
        },
        "id": "RdksTpg3vv7_",
        "outputId": "9fd23fd8-0708-498f-a879-a0206d17b82f"
      },
      "execution_count": null,
      "outputs": [
        {
          "output_type": "execute_result",
          "data": {
            "application/vnd.google.colaboratory.intrinsic+json": {
              "type": "string"
            },
            "text/plain": [
              "'1.19.5'"
            ]
          },
          "metadata": {},
          "execution_count": 2
        }
      ]
    },
    {
      "cell_type": "code",
      "source": [
        "np.show_config()"
      ],
      "metadata": {
        "id": "iq9NxF_cv0Bq"
      },
      "execution_count": null,
      "outputs": []
    },
    {
      "cell_type": "markdown",
      "source": [
        "#### 3. Create a null vector of size 10 (★☆☆) \n",
        "(**hint**: np.zeros)"
      ],
      "metadata": {
        "id": "BoBI22ckv99i"
      }
    },
    {
      "cell_type": "code",
      "source": [
        "x = np.zeros(10)\n",
        "x"
      ],
      "metadata": {
        "colab": {
          "base_uri": "https://localhost:8080/"
        },
        "id": "5iyyZm9hv3kV",
        "outputId": "5f8d350e-b0fa-4ee3-acc0-067bf471d532"
      },
      "execution_count": null,
      "outputs": [
        {
          "output_type": "execute_result",
          "data": {
            "text/plain": [
              "array([0., 0., 0., 0., 0., 0., 0., 0., 0., 0.])"
            ]
          },
          "metadata": {},
          "execution_count": 5
        }
      ]
    },
    {
      "cell_type": "markdown",
      "source": [
        "#### 4.  How to find the memory size of any array (★☆☆) \n",
        "(**hint**: size, itemsize)"
      ],
      "metadata": {
        "id": "XHhV7bL_wPBy"
      }
    },
    {
      "cell_type": "code",
      "source": [
        "x = np.array([1,2,3,4])\n",
        "x.size*x.itemsize"
      ],
      "metadata": {
        "colab": {
          "base_uri": "https://localhost:8080/"
        },
        "id": "lrlXgWjXwOhm",
        "outputId": "e03a943e-4696-45e6-c6c9-87a8e390a268"
      },
      "execution_count": null,
      "outputs": [
        {
          "output_type": "execute_result",
          "data": {
            "text/plain": [
              "32"
            ]
          },
          "metadata": {},
          "execution_count": 6
        }
      ]
    },
    {
      "cell_type": "markdown",
      "source": [
        "#### 5.  How to get the documentation of the numpy add function from the command line? (★☆☆) \n",
        "(**hint**: np.info)"
      ],
      "metadata": {
        "id": "h8dp8r0uwk8z"
      }
    },
    {
      "cell_type": "code",
      "source": [
        "np.info(np.add)"
      ],
      "metadata": {
        "id": "pwXxornEwfHN"
      },
      "execution_count": null,
      "outputs": []
    },
    {
      "cell_type": "markdown",
      "source": [
        "#### 6.  Create a null vector of size 10 but the fifth value which is 1 (★☆☆) \n",
        "(**hint**: array\\[4\\])"
      ],
      "metadata": {
        "id": "bScWEQVRwrBN"
      }
    },
    {
      "cell_type": "code",
      "source": [
        "arry = np.zeros(10)\n",
        "arry[4] = 1\n",
        "print(arry)\n"
      ],
      "metadata": {
        "colab": {
          "base_uri": "https://localhost:8080/"
        },
        "id": "Otd49aQ3w2Oe",
        "outputId": "8d369cc8-b2b4-420d-d48f-4de95c6ad4aa"
      },
      "execution_count": null,
      "outputs": [
        {
          "output_type": "stream",
          "name": "stdout",
          "text": [
            "[0. 0. 0. 0. 1. 0. 0. 0. 0. 0.]\n"
          ]
        }
      ]
    },
    {
      "cell_type": "markdown",
      "source": [
        "#### 7.  Create a vector with values ranging from 10 to 49 (★☆☆) \n",
        "(**hint**: np.arange)"
      ],
      "metadata": {
        "id": "5InQU550xECp"
      }
    },
    {
      "cell_type": "code",
      "source": [
        "x = np.arange(10,50)\n",
        "print(x)"
      ],
      "metadata": {
        "colab": {
          "base_uri": "https://localhost:8080/"
        },
        "id": "7LcBoRXmxL1o",
        "outputId": "da141195-5f5d-481e-b52f-b5295b926959"
      },
      "execution_count": null,
      "outputs": [
        {
          "output_type": "stream",
          "name": "stdout",
          "text": [
            "[10 11 12 13 14 15 16 17 18 19 20 21 22 23 24 25 26 27 28 29 30 31 32 33\n",
            " 34 35 36 37 38 39 40 41 42 43 44 45 46 47 48 49]\n"
          ]
        }
      ]
    },
    {
      "cell_type": "markdown",
      "source": [
        "#### 8.  Reverse a vector (first element becomes last) (★☆☆) \n",
        "(**hint**: array\\[::-1\\])"
      ],
      "metadata": {
        "id": "nBWFp43OxPvJ"
      }
    },
    {
      "cell_type": "code",
      "source": [
        "x = np.arange(10,50)\n",
        "x1 = x[::-1]\n",
        "print(x1)"
      ],
      "metadata": {
        "colab": {
          "base_uri": "https://localhost:8080/"
        },
        "id": "tbu6LvjvxPF5",
        "outputId": "04b78577-22a0-44e0-d650-4ca84bd136d3"
      },
      "execution_count": null,
      "outputs": [
        {
          "output_type": "stream",
          "name": "stdout",
          "text": [
            "[49 48 47 46 45 44 43 42 41 40 39 38 37 36 35 34 33 32 31 30 29 28 27 26\n",
            " 25 24 23 22 21 20 19 18 17 16 15 14 13 12 11 10]\n"
          ]
        }
      ]
    },
    {
      "cell_type": "markdown",
      "source": [
        "#### 9.  Create a 3x3 matrix with values ranging from 0 to 8 (★☆☆) \n",
        "(**hint**: reshape)"
      ],
      "metadata": {
        "id": "CM98vmqrxY3p"
      }
    },
    {
      "cell_type": "code",
      "source": [
        "s = np.arange(0,9)\n",
        "s1 = s.reshape(3,3)\n",
        "print(s1)"
      ],
      "metadata": {
        "colab": {
          "base_uri": "https://localhost:8080/"
        },
        "id": "2VVq-WhsxdL-",
        "outputId": "f3c7666a-4539-406b-8c6d-864a9251d652"
      },
      "execution_count": null,
      "outputs": [
        {
          "output_type": "stream",
          "name": "stdout",
          "text": [
            "[[0 1 2]\n",
            " [3 4 5]\n",
            " [6 7 8]]\n"
          ]
        }
      ]
    },
    {
      "cell_type": "markdown",
      "source": [
        "#### 10. Find indices of non-zero elements from \\[1,2,0,0,4,0\\] (★☆☆) \n",
        "(**hint**: np.nonzero)"
      ],
      "metadata": {
        "id": "qWSgQq90xkwL"
      }
    },
    {
      "cell_type": "code",
      "source": [
        "x1 = np.nonzero([1,2,0,0,4,0])\n",
        "print(x1)"
      ],
      "metadata": {
        "colab": {
          "base_uri": "https://localhost:8080/"
        },
        "id": "f6HUDh3JxqKv",
        "outputId": "4bc8c589-131f-4d7a-c544-515f86ef9c82"
      },
      "execution_count": null,
      "outputs": [
        {
          "output_type": "stream",
          "name": "stdout",
          "text": [
            "(array([0, 1, 4]),)\n"
          ]
        }
      ]
    },
    {
      "cell_type": "markdown",
      "source": [
        "#### 11. Create a 3x3 identity matrix (★☆☆) \n",
        "(**hint**: np.eye)"
      ],
      "metadata": {
        "id": "i4ms3LjzxuEt"
      }
    },
    {
      "cell_type": "code",
      "source": [
        "y = np.eye(3)\n",
        "print(y)"
      ],
      "metadata": {
        "colab": {
          "base_uri": "https://localhost:8080/"
        },
        "id": "8O-d4dQFx0GB",
        "outputId": "be2d13b8-8bd4-4cc3-9835-0490ea2b1c8a"
      },
      "execution_count": null,
      "outputs": [
        {
          "output_type": "stream",
          "name": "stdout",
          "text": [
            "[[1. 0. 0.]\n",
            " [0. 1. 0.]\n",
            " [0. 0. 1.]]\n"
          ]
        }
      ]
    },
    {
      "cell_type": "markdown",
      "source": [
        "#### 12. Create a 3x3x3 array with random values (★☆☆) \n",
        "(**hint**: np.random.random)"
      ],
      "metadata": {
        "id": "uvmYAoDvx5Zo"
      }
    },
    {
      "cell_type": "code",
      "source": [
        "x = np.random.random((3,3,3))\n",
        "print(x)"
      ],
      "metadata": {
        "colab": {
          "base_uri": "https://localhost:8080/"
        },
        "id": "6iuTkJk6x-ZY",
        "outputId": "75f73017-3228-498c-cd97-b41beb7c30b9"
      },
      "execution_count": null,
      "outputs": [
        {
          "output_type": "stream",
          "name": "stdout",
          "text": [
            "[[[0.10343363 0.51560681 0.5885137 ]\n",
            "  [0.14552588 0.80182848 0.29164881]\n",
            "  [0.48393333 0.6605687  0.48210894]]\n",
            "\n",
            " [[0.11851736 0.44463556 0.30381728]\n",
            "  [0.21275939 0.85889721 0.98997758]\n",
            "  [0.97676914 0.48373531 0.89180619]]\n",
            "\n",
            " [[0.57216778 0.35237665 0.66242158]\n",
            "  [0.2683399  0.12394111 0.43532405]\n",
            "  [0.10156025 0.79169978 0.16899326]]]\n"
          ]
        }
      ]
    },
    {
      "cell_type": "markdown",
      "source": [
        "#### 13. Create a 10x10 array with random values and find the minimum and maximum values (★☆☆) \n",
        "(**hint**: min, max)"
      ],
      "metadata": {
        "id": "cNphlC_2yLdR"
      }
    },
    {
      "cell_type": "code",
      "source": [
        "x = np.random.random((10,10))\n",
        "x_min, x_max = x.min(), x.max()\n",
        "print(x_min, x_max)"
      ],
      "metadata": {
        "colab": {
          "base_uri": "https://localhost:8080/"
        },
        "id": "0aT8HrbZyG_1",
        "outputId": "b0f49aa2-e85b-4935-fd71-7401817e5669"
      },
      "execution_count": null,
      "outputs": [
        {
          "output_type": "stream",
          "name": "stdout",
          "text": [
            "0.0008846918634717316 0.9717598067615301\n"
          ]
        }
      ]
    },
    {
      "cell_type": "markdown",
      "source": [
        "#### 14. Create a random vector of size 30 and find the mean value (★☆☆) \n",
        "(**hint**: mean)"
      ],
      "metadata": {
        "id": "3bWwIWVOyUgK"
      }
    },
    {
      "cell_type": "code",
      "source": [
        "x = np.random.random(30)\n",
        "x_mean = x.mean()\n",
        "print(x_mean)\n"
      ],
      "metadata": {
        "colab": {
          "base_uri": "https://localhost:8080/"
        },
        "id": "1lAkUCQvyYng",
        "outputId": "111a6c82-8e40-453f-aec1-49bf4876817b"
      },
      "execution_count": null,
      "outputs": [
        {
          "output_type": "stream",
          "name": "stdout",
          "text": [
            "0.5528116252460397\n"
          ]
        }
      ]
    },
    {
      "cell_type": "markdown",
      "source": [
        "#### 15. Create a 2d array with 1 on the border and 0 inside (★☆☆) \n",
        "(**hint**: array\\[1:-1, 1:-1\\])"
      ],
      "metadata": {
        "id": "pEDe1bo7yjn_"
      }
    },
    {
      "cell_type": "code",
      "source": [
        "x = np.ones((5,5))\n",
        "x[1:-1,1:-1] = 0\n",
        "x"
      ],
      "metadata": {
        "colab": {
          "base_uri": "https://localhost:8080/"
        },
        "id": "TZ8d7w1BydDr",
        "outputId": "8f758a7e-0430-4d35-8528-adae05eb173c"
      },
      "execution_count": null,
      "outputs": [
        {
          "output_type": "execute_result",
          "data": {
            "text/plain": [
              "array([[1., 1., 1., 1., 1.],\n",
              "       [1., 0., 0., 0., 1.],\n",
              "       [1., 0., 0., 0., 1.],\n",
              "       [1., 0., 0., 0., 1.],\n",
              "       [1., 1., 1., 1., 1.]])"
            ]
          },
          "metadata": {},
          "execution_count": 21
        }
      ]
    },
    {
      "cell_type": "markdown",
      "source": [
        "#### 16. How to add a border (filled with 0's) around an existing array? (★☆☆) \n",
        "(**hint**: np.pad)"
      ],
      "metadata": {
        "id": "u-Vj7tc92l5J"
      }
    },
    {
      "cell_type": "code",
      "source": [
        "x = np.arange(1,13).reshape(3,4)\n",
        "x1 = np.pad(x,pad_width=1, mode='constant',constant_values = 0 )\n",
        "x1"
      ],
      "metadata": {
        "colab": {
          "base_uri": "https://localhost:8080/"
        },
        "id": "_Pdep9SQ2lh7",
        "outputId": "7016e049-8e0e-4e74-c520-934524217dc9"
      },
      "execution_count": null,
      "outputs": [
        {
          "output_type": "execute_result",
          "data": {
            "text/plain": [
              "array([[ 0,  0,  0,  0,  0,  0],\n",
              "       [ 0,  1,  2,  3,  4,  0],\n",
              "       [ 0,  5,  6,  7,  8,  0],\n",
              "       [ 0,  9, 10, 11, 12,  0],\n",
              "       [ 0,  0,  0,  0,  0,  0]])"
            ]
          },
          "metadata": {},
          "execution_count": 28
        }
      ]
    },
    {
      "cell_type": "markdown",
      "source": [
        "#### 17. What is the result of the following expression? (★☆☆) \n",
        "(**hint**: NaN = not a number, inf = infinity)"
      ],
      "metadata": {
        "id": "4aJ2HOIj54LH"
      }
    },
    {
      "cell_type": "markdown",
      "source": [
        "```python\n",
        "0 * np.nan\n",
        "np.nan == np.nan\n",
        "np.inf > np.nan\n",
        "np.nan - np.nan\n",
        "0.3 == 3 * 0.1\n",
        "```"
      ],
      "metadata": {
        "id": "tPPmXcBF6Q5Y"
      }
    },
    {
      "cell_type": "code",
      "source": [
        "print(0*np.nan)"
      ],
      "metadata": {
        "colab": {
          "base_uri": "https://localhost:8080/"
        },
        "id": "uEqNJhbO52Dg",
        "outputId": "432f0734-3c77-4c9f-db68-a2f06c38ef86"
      },
      "execution_count": null,
      "outputs": [
        {
          "output_type": "stream",
          "name": "stdout",
          "text": [
            "nan\n"
          ]
        }
      ]
    },
    {
      "cell_type": "code",
      "source": [
        "print(np.nan == np.nan)"
      ],
      "metadata": {
        "colab": {
          "base_uri": "https://localhost:8080/"
        },
        "id": "Nzu9EgNu6mfR",
        "outputId": "9ffd789b-df29-4653-aec5-ea045dcd13fd"
      },
      "execution_count": null,
      "outputs": [
        {
          "output_type": "stream",
          "name": "stdout",
          "text": [
            "False\n"
          ]
        }
      ]
    },
    {
      "cell_type": "code",
      "source": [
        "print(np.inf > np.nan)"
      ],
      "metadata": {
        "colab": {
          "base_uri": "https://localhost:8080/"
        },
        "id": "pbqR8-Oz6r5w",
        "outputId": "5edbd327-aaa6-4a0d-b5b0-e7b0015b48d8"
      },
      "execution_count": null,
      "outputs": [
        {
          "output_type": "stream",
          "name": "stdout",
          "text": [
            "False\n"
          ]
        }
      ]
    },
    {
      "cell_type": "code",
      "source": [
        "print(np.nan - np.nan)"
      ],
      "metadata": {
        "colab": {
          "base_uri": "https://localhost:8080/"
        },
        "id": "PXLkdtrC6xpi",
        "outputId": "7816db11-8dc9-4cc3-f9cc-3161dfb95fc9"
      },
      "execution_count": null,
      "outputs": [
        {
          "output_type": "stream",
          "name": "stdout",
          "text": [
            "nan\n"
          ]
        }
      ]
    },
    {
      "cell_type": "code",
      "source": [
        "print(0.3 == 3*0.1)"
      ],
      "metadata": {
        "colab": {
          "base_uri": "https://localhost:8080/"
        },
        "id": "elquGDoR66Nj",
        "outputId": "57ad2595-0c9b-4744-c1c4-d9b3eff0b61f"
      },
      "execution_count": null,
      "outputs": [
        {
          "output_type": "stream",
          "name": "stdout",
          "text": [
            "False\n"
          ]
        }
      ]
    },
    {
      "cell_type": "markdown",
      "source": [
        "#### 18. Create a 5x5 matrix with values 1,2,3,4 just below the diagonal (★☆☆) \n",
        "(**hint**: np.diag)"
      ],
      "metadata": {
        "id": "Y9Zu0ifO7Uli"
      }
    },
    {
      "cell_type": "code",
      "source": [
        "\n",
        "z1 = np.diag(np.arange(1,5),k=-1)\n",
        "z1"
      ],
      "metadata": {
        "colab": {
          "base_uri": "https://localhost:8080/"
        },
        "id": "0ADkfiFN7b0-",
        "outputId": "92301ebc-ccb7-45e7-a1e4-ecf3b5a108f8"
      },
      "execution_count": null,
      "outputs": [
        {
          "output_type": "execute_result",
          "data": {
            "text/plain": [
              "array([[0, 0, 0, 0, 0],\n",
              "       [1, 0, 0, 0, 0],\n",
              "       [0, 2, 0, 0, 0],\n",
              "       [0, 0, 3, 0, 0],\n",
              "       [0, 0, 0, 4, 0]])"
            ]
          },
          "metadata": {},
          "execution_count": 44
        }
      ]
    },
    {
      "cell_type": "markdown",
      "source": [
        "#### 19. Create a 8x8 matrix and fill it with a checkerboard pattern (★☆☆) \n",
        "(**hint**: array\\[::2\\])"
      ],
      "metadata": {
        "id": "DHYTAzkR_GEf"
      }
    },
    {
      "cell_type": "code",
      "source": [
        "z = np.zeros((8,8), dtype = int)\n",
        "z[1::2,::2] = 1\n",
        "z[::2,1::2] = 1\n",
        "z"
      ],
      "metadata": {
        "colab": {
          "base_uri": "https://localhost:8080/"
        },
        "id": "2oqTQtD2_FqX",
        "outputId": "d46eea6c-d24b-4458-d848-24a9a2ff2047"
      },
      "execution_count": null,
      "outputs": [
        {
          "output_type": "execute_result",
          "data": {
            "text/plain": [
              "array([[0, 1, 0, 1, 0, 1, 0, 1],\n",
              "       [1, 0, 1, 0, 1, 0, 1, 0],\n",
              "       [0, 1, 0, 1, 0, 1, 0, 1],\n",
              "       [1, 0, 1, 0, 1, 0, 1, 0],\n",
              "       [0, 1, 0, 1, 0, 1, 0, 1],\n",
              "       [1, 0, 1, 0, 1, 0, 1, 0],\n",
              "       [0, 1, 0, 1, 0, 1, 0, 1],\n",
              "       [1, 0, 1, 0, 1, 0, 1, 0]])"
            ]
          },
          "metadata": {},
          "execution_count": 60
        }
      ]
    },
    {
      "cell_type": "markdown",
      "source": [
        "#### 20. Consider a (6,7,8) shape array, what is the index (x,y,z) of the 100th element? \n",
        "(**hint**: np.unravel_index)"
      ],
      "metadata": {
        "id": "JOjsOMuwDCNW"
      }
    },
    {
      "cell_type": "code",
      "source": [
        "x = np.unravel_index(100,(6,7,8))\n",
        "x"
      ],
      "metadata": {
        "colab": {
          "base_uri": "https://localhost:8080/"
        },
        "id": "135EVYDHA5Pz",
        "outputId": "213f21fc-4cf4-4031-fff4-0655246adfde"
      },
      "execution_count": null,
      "outputs": [
        {
          "output_type": "execute_result",
          "data": {
            "text/plain": [
              "(1, 5, 4)"
            ]
          },
          "metadata": {},
          "execution_count": 61
        }
      ]
    },
    {
      "cell_type": "markdown",
      "source": [
        "#### 21. Create a checkerboard 8x8 matrix using the tile function (★☆☆) \n",
        "(**hint**: np.tile)"
      ],
      "metadata": {
        "id": "Ad865AatEBv7"
      }
    },
    {
      "cell_type": "code",
      "source": [
        "x = np.array([[0,1],[0,1]])\n",
        "x1 = np.tile(x,(4,4))\n",
        "x1"
      ],
      "metadata": {
        "colab": {
          "base_uri": "https://localhost:8080/"
        },
        "id": "Vttb_NhfDtx9",
        "outputId": "74bf5fda-9da0-452b-cd5f-4b778e873411"
      },
      "execution_count": null,
      "outputs": [
        {
          "output_type": "execute_result",
          "data": {
            "text/plain": [
              "array([[0, 1, 0, 1, 0, 1, 0, 1],\n",
              "       [0, 1, 0, 1, 0, 1, 0, 1],\n",
              "       [0, 1, 0, 1, 0, 1, 0, 1],\n",
              "       [0, 1, 0, 1, 0, 1, 0, 1],\n",
              "       [0, 1, 0, 1, 0, 1, 0, 1],\n",
              "       [0, 1, 0, 1, 0, 1, 0, 1],\n",
              "       [0, 1, 0, 1, 0, 1, 0, 1],\n",
              "       [0, 1, 0, 1, 0, 1, 0, 1]])"
            ]
          },
          "metadata": {},
          "execution_count": 69
        }
      ]
    },
    {
      "cell_type": "markdown",
      "source": [
        "#### 22. Normalize a 5x5 random matrix (★☆☆) \n",
        "(**hint**: (x - min) / (max - min))"
      ],
      "metadata": {
        "id": "CmpgQeghF0EF"
      }
    },
    {
      "cell_type": "code",
      "source": [
        "x = np.random.random((5,5))\n",
        "x_min, x_max = x.min(),x.max()\n",
        "x1 = (x - x_min)/(x_max - x_min)\n",
        "x1"
      ],
      "metadata": {
        "colab": {
          "base_uri": "https://localhost:8080/"
        },
        "id": "Mm6-e7AMFzpg",
        "outputId": "f5cc6fab-d258-4fdf-d4ba-c9e5488a9284"
      },
      "execution_count": null,
      "outputs": [
        {
          "output_type": "execute_result",
          "data": {
            "text/plain": [
              "array([[0.09973542, 0.71056906, 0.84404606, 0.52203078, 0.27749564],\n",
              "       [0.99554733, 0.36206616, 0.68084137, 0.        , 0.43621798],\n",
              "       [0.78184395, 0.60616953, 0.95976539, 0.39088577, 0.10962162],\n",
              "       [0.7648795 , 0.71016827, 0.30811235, 0.80804221, 0.07698631],\n",
              "       [0.32630523, 0.39789248, 0.37940998, 1.        , 0.83860649]])"
            ]
          },
          "metadata": {},
          "execution_count": 73
        }
      ]
    },
    {
      "cell_type": "markdown",
      "source": [
        "#### 23. Create a custom dtype that describes a color as four unsigned bytes (RGBA) (★☆☆) \n",
        "(**hint**: np.dtype)"
      ],
      "metadata": {
        "id": "U3lfId2uIIN6"
      }
    },
    {
      "cell_type": "code",
      "source": [
        "RGBA = np.dtype([('r',np.uint8),('g',np.uint8),('b',np.uint8),('a',np.uint8)])\n",
        "#color = np.array((1,2,3,4),dtype = RGBA)\n",
        "#print(color['red'])\n",
        "#type(color)\n",
        "RGBA"
      ],
      "metadata": {
        "colab": {
          "base_uri": "https://localhost:8080/"
        },
        "id": "z255XgxYH7EI",
        "outputId": "b02f8f23-361f-4933-9431-49de062cd45b"
      },
      "execution_count": null,
      "outputs": [
        {
          "output_type": "execute_result",
          "data": {
            "text/plain": [
              "dtype([('r', 'u1'), ('g', 'u1'), ('b', 'u1'), ('a', 'u1')])"
            ]
          },
          "metadata": {},
          "execution_count": 115
        }
      ]
    },
    {
      "cell_type": "markdown",
      "source": [
        "#### 24. Multiply a 5x3 matrix by a 3x2 matrix (real matrix product) (★☆☆) \n",
        "(**hint**: np.dot | @)"
      ],
      "metadata": {
        "id": "y0uhp-sZYx13"
      }
    },
    {
      "cell_type": "code",
      "source": [
        "arr1 = np.random.random((5,3))\n",
        "arr2 = np.random.random((3,2))\n",
        "arr_dot = np.dot(arr1,arr2)\n",
        "print(arr_dot)"
      ],
      "metadata": {
        "colab": {
          "base_uri": "https://localhost:8080/"
        },
        "id": "8Rl9BdPLSh8x",
        "outputId": "4c7fa996-522a-4f2c-b465-6ac7a96745c6"
      },
      "execution_count": null,
      "outputs": [
        {
          "output_type": "stream",
          "name": "stdout",
          "text": [
            "[[1.06295312 0.67447513]\n",
            " [0.50260965 0.32203313]\n",
            " [0.22487228 0.09139017]\n",
            " [0.8774262  0.60212616]\n",
            " [0.795056   0.53399862]]\n"
          ]
        }
      ]
    },
    {
      "cell_type": "markdown",
      "source": [
        "#### 25. Given a 1D array, negate all elements which are between 3 and 8, in place. (★☆☆) \n",
        "(**hint**: >, <=)"
      ],
      "metadata": {
        "id": "rzWNS-bYbNio"
      }
    },
    {
      "cell_type": "code",
      "source": [
        "x = np.arange(16)\n",
        "x[(x > 3) & (x <= 8)] *= -1\n",
        "x"
      ],
      "metadata": {
        "colab": {
          "base_uri": "https://localhost:8080/"
        },
        "id": "MG0Y-tnPTBIr",
        "outputId": "a226e3f0-317a-41f6-d921-e1febd3ce859"
      },
      "execution_count": null,
      "outputs": [
        {
          "output_type": "execute_result",
          "data": {
            "text/plain": [
              "array([ 0,  1,  2,  3, -4, -5, -6, -7, -8,  9, 10, 11, 12, 13, 14, 15])"
            ]
          },
          "metadata": {},
          "execution_count": 125
        }
      ]
    },
    {
      "cell_type": "markdown",
      "source": [
        "#### 26. What is the output of the following script? (★☆☆) \n",
        "(**hint**: np.sum)"
      ],
      "metadata": {
        "id": "u28ACGhEhYHm"
      }
    },
    {
      "cell_type": "markdown",
      "source": [
        "```python\n",
        "# Author: Jake VanderPlas\n",
        "\n",
        "print(sum(range(5),-1))\n",
        "from numpy import *\n",
        "print(sum(range(5),-1))\n",
        "```"
      ],
      "metadata": {
        "id": "AhwS8OgXhlXr"
      }
    },
    {
      "cell_type": "code",
      "source": [
        "print(sum(range(5),-1))"
      ],
      "metadata": {
        "colab": {
          "base_uri": "https://localhost:8080/"
        },
        "id": "2C8OGzlFTeM3",
        "outputId": "c59ff379-ca11-4398-803e-da2e5067456d"
      },
      "execution_count": null,
      "outputs": [
        {
          "output_type": "stream",
          "name": "stdout",
          "text": [
            "10\n"
          ]
        }
      ]
    },
    {
      "cell_type": "code",
      "source": [
        "from numpy import *\n",
        "print(sum(range(5),-1)) "
      ],
      "metadata": {
        "colab": {
          "base_uri": "https://localhost:8080/"
        },
        "id": "TcWAlVXJigaG",
        "outputId": "6a02a7c4-ec5d-45d8-e70c-2496f4a7878b"
      },
      "execution_count": null,
      "outputs": [
        {
          "output_type": "stream",
          "name": "stdout",
          "text": [
            "10\n"
          ]
        }
      ]
    },
    {
      "cell_type": "code",
      "source": [
        "np.sum(range(5),-1)"
      ],
      "metadata": {
        "colab": {
          "base_uri": "https://localhost:8080/"
        },
        "id": "7ocS5PZ1VDS7",
        "outputId": "79fa800c-2d71-49e0-93c1-9dac9862ff49"
      },
      "execution_count": null,
      "outputs": [
        {
          "output_type": "execute_result",
          "data": {
            "text/plain": [
              "10"
            ]
          },
          "metadata": {},
          "execution_count": 2
        }
      ]
    },
    {
      "cell_type": "code",
      "source": [
        ""
      ],
      "metadata": {
        "id": "tJdD_giPVU_D"
      },
      "execution_count": null,
      "outputs": []
    },
    {
      "cell_type": "markdown",
      "source": [
        "#### 27. Consider an integer vector Z, which of these expressions are legal? (★☆☆)"
      ],
      "metadata": {
        "id": "R7t6-9dAkS8j"
      }
    },
    {
      "cell_type": "markdown",
      "source": [
        "```python\n",
        "Z**Z\n",
        "2 << Z >> 2\n",
        "Z <- Z\n",
        "1j*Z\n",
        "Z/1/1\n",
        "Z<Z>Z\n",
        "```"
      ],
      "metadata": {
        "id": "RIEQvR3zkfCm"
      }
    },
    {
      "cell_type": "code",
      "source": [
        "z = np.arange(9).reshape(3,3)\n",
        "z"
      ],
      "metadata": {
        "colab": {
          "base_uri": "https://localhost:8080/"
        },
        "id": "_ojVkUT_jQp6",
        "outputId": "bd85eb1c-1b43-4557-b928-a3cf3b0790be"
      },
      "execution_count": null,
      "outputs": [
        {
          "output_type": "execute_result",
          "data": {
            "text/plain": [
              "array([[0, 1, 2],\n",
              "       [3, 4, 5],\n",
              "       [6, 7, 8]])"
            ]
          },
          "metadata": {},
          "execution_count": 143
        }
      ]
    },
    {
      "cell_type": "code",
      "source": [
        "z**z"
      ],
      "metadata": {
        "colab": {
          "base_uri": "https://localhost:8080/"
        },
        "id": "fNsijW1smlUx",
        "outputId": "1f748a1e-2fcc-4e33-89d3-cf97d3860f4f"
      },
      "execution_count": null,
      "outputs": [
        {
          "output_type": "execute_result",
          "data": {
            "text/plain": [
              "array([[       1,        1,        4],\n",
              "       [      27,      256,     3125],\n",
              "       [   46656,   823543, 16777216]])"
            ]
          },
          "metadata": {},
          "execution_count": 144
        }
      ]
    },
    {
      "cell_type": "code",
      "source": [
        "z1 = 2<<z>>2\n",
        "z1\n"
      ],
      "metadata": {
        "colab": {
          "base_uri": "https://localhost:8080/"
        },
        "id": "Em_Ja2-8nHBI",
        "outputId": "1ca9d803-ea7a-40c7-be61-837f4b0da175"
      },
      "execution_count": null,
      "outputs": [
        {
          "output_type": "execute_result",
          "data": {
            "text/plain": [
              "array([[  0,   1,   2],\n",
              "       [  4,   8,  16],\n",
              "       [ 32,  64, 128]])"
            ]
          },
          "metadata": {},
          "execution_count": 145
        }
      ]
    },
    {
      "cell_type": "code",
      "source": [
        "print(z <- z)"
      ],
      "metadata": {
        "colab": {
          "base_uri": "https://localhost:8080/"
        },
        "id": "Q9IqPdCA3riJ",
        "outputId": "bab51398-b404-4f17-ab28-6d20a64e7297"
      },
      "execution_count": null,
      "outputs": [
        {
          "output_type": "stream",
          "name": "stdout",
          "text": [
            "[[False False False]\n",
            " [False False False]\n",
            " [False False False]]\n"
          ]
        }
      ]
    },
    {
      "cell_type": "code",
      "source": [
        "print(1j*z)"
      ],
      "metadata": {
        "colab": {
          "base_uri": "https://localhost:8080/"
        },
        "id": "0z7F9bXx3zsK",
        "outputId": "6221177a-5c87-41b1-c030-94547ae5a596"
      },
      "execution_count": null,
      "outputs": [
        {
          "output_type": "stream",
          "name": "stdout",
          "text": [
            "[[0.+0.j 0.+1.j 0.+2.j]\n",
            " [0.+3.j 0.+4.j 0.+5.j]\n",
            " [0.+6.j 0.+7.j 0.+8.j]]\n"
          ]
        }
      ]
    },
    {
      "cell_type": "code",
      "source": [
        "print(z/1/1)"
      ],
      "metadata": {
        "colab": {
          "base_uri": "https://localhost:8080/"
        },
        "id": "9eCQYNeJ36h1",
        "outputId": "fb9d541c-8d9f-4d81-a157-18dc3292a20a"
      },
      "execution_count": null,
      "outputs": [
        {
          "output_type": "stream",
          "name": "stdout",
          "text": [
            "[[0. 1. 2.]\n",
            " [3. 4. 5.]\n",
            " [6. 7. 8.]]\n"
          ]
        }
      ]
    },
    {
      "cell_type": "code",
      "source": [
        "print(z<z>z)"
      ],
      "metadata": {
        "colab": {
          "base_uri": "https://localhost:8080/",
          "height": 165
        },
        "id": "GbfItp-G3_QK",
        "outputId": "f3b86d6d-ecf1-401d-e64c-f09b69d9ee10"
      },
      "execution_count": null,
      "outputs": [
        {
          "output_type": "error",
          "ename": "ValueError",
          "evalue": "ignored",
          "traceback": [
            "\u001b[0;31m---------------------------------------------------------------------------\u001b[0m",
            "\u001b[0;31mValueError\u001b[0m                                Traceback (most recent call last)",
            "\u001b[0;32m<ipython-input-150-b8bed8a919f8>\u001b[0m in \u001b[0;36m<module>\u001b[0;34m()\u001b[0m\n\u001b[0;32m----> 1\u001b[0;31m \u001b[0mprint\u001b[0m\u001b[0;34m(\u001b[0m\u001b[0mz\u001b[0m\u001b[0;34m<\u001b[0m\u001b[0mz\u001b[0m\u001b[0;34m>\u001b[0m\u001b[0mz\u001b[0m\u001b[0;34m)\u001b[0m\u001b[0;34m\u001b[0m\u001b[0;34m\u001b[0m\u001b[0m\n\u001b[0m",
            "\u001b[0;31mValueError\u001b[0m: The truth value of an array with more than one element is ambiguous. Use a.any() or a.all()"
          ]
        }
      ]
    },
    {
      "cell_type": "markdown",
      "source": [
        "#### 28. What are the result of the following expressions?"
      ],
      "metadata": {
        "id": "vdlPkCwQ4MRp"
      }
    },
    {
      "cell_type": "markdown",
      "source": [
        "```python\n",
        "np.array(0) / np.array(0)\n",
        "np.array(0) // np.array(0)\n",
        "np.array([np.nan]).astype(int).astype(float)\n",
        "```"
      ],
      "metadata": {
        "id": "HX43zPl74VuH"
      }
    },
    {
      "cell_type": "code",
      "source": [
        "s = np.array(0)/np.array(0)\n",
        "print(s)"
      ],
      "metadata": {
        "colab": {
          "base_uri": "https://localhost:8080/"
        },
        "id": "BOcBCfS-4aUV",
        "outputId": "7c33d061-441f-4513-9e14-a72901a00915"
      },
      "execution_count": null,
      "outputs": [
        {
          "output_type": "stream",
          "name": "stdout",
          "text": [
            "nan\n"
          ]
        },
        {
          "output_type": "stream",
          "name": "stderr",
          "text": [
            "/usr/local/lib/python3.7/dist-packages/ipykernel_launcher.py:1: RuntimeWarning: invalid value encountered in true_divide\n",
            "  \"\"\"Entry point for launching an IPython kernel.\n"
          ]
        }
      ]
    },
    {
      "cell_type": "code",
      "source": [
        "s = np.array(0)//np.array(0)\n",
        "print(s)"
      ],
      "metadata": {
        "colab": {
          "base_uri": "https://localhost:8080/"
        },
        "id": "-ZYWo4m-4pE4",
        "outputId": "d716a705-6a56-45d3-d956-bbbaf6b91a82"
      },
      "execution_count": null,
      "outputs": [
        {
          "output_type": "stream",
          "name": "stdout",
          "text": [
            "0\n"
          ]
        },
        {
          "output_type": "stream",
          "name": "stderr",
          "text": [
            "/usr/local/lib/python3.7/dist-packages/ipykernel_launcher.py:1: RuntimeWarning: divide by zero encountered in floor_divide\n",
            "  \"\"\"Entry point for launching an IPython kernel.\n"
          ]
        }
      ]
    },
    {
      "cell_type": "code",
      "source": [
        "s = np.array([np.nan]).astype(int).astype(float)\n",
        "print(s)"
      ],
      "metadata": {
        "colab": {
          "base_uri": "https://localhost:8080/"
        },
        "id": "WgN8KR_O45P3",
        "outputId": "80a9b75e-7a77-4b8d-a79d-af252a09719c"
      },
      "execution_count": null,
      "outputs": [
        {
          "output_type": "stream",
          "name": "stdout",
          "text": [
            "[-9.22337204e+18]\n"
          ]
        }
      ]
    },
    {
      "cell_type": "markdown",
      "source": [
        "#### 29. How to round away from zero a float array ? (★☆☆) \n",
        "(**hint**: np.uniform, np.copysign, np.ceil, np.abs)"
      ],
      "metadata": {
        "id": "I-KilIJ05Ok-"
      }
    },
    {
      "cell_type": "code",
      "source": [
        "z = np.random.uniform(-10,+10,10)\n",
        "print(z)\n",
        "print(np.copysign(np.ceil(np.abs(z)),z))"
      ],
      "metadata": {
        "id": "UgRmwWyA5ZQf",
        "colab": {
          "base_uri": "https://localhost:8080/"
        },
        "outputId": "21f08423-13f9-466c-9967-10113e52aa99"
      },
      "execution_count": null,
      "outputs": [
        {
          "output_type": "stream",
          "name": "stdout",
          "text": [
            "[ 5.26506109  5.38563753  5.62070649 -7.59616441 -1.11380246 -9.47395911\n",
            " -9.51332399  9.09614252 -6.99536274  6.41583352]\n",
            "[  6.   6.   6.  -8.  -2. -10. -10.  10.  -7.   7.]\n"
          ]
        }
      ]
    },
    {
      "cell_type": "markdown",
      "source": [
        "#### 30. How to find common values between two arrays? (★☆☆) \n",
        "(**hint**: np.intersect1d)"
      ],
      "metadata": {
        "id": "GS1zXkALZ_wE"
      }
    },
    {
      "cell_type": "code",
      "source": [
        "x1 = np.random.randint(0,5,5)\n",
        "x2 = np.random.randint(0,5,5)\n",
        "print('x1  :',x1)\n",
        "print('x2  :',x2)\n",
        "print('common : ',np.intersect1d(x1,x2))"
      ],
      "metadata": {
        "id": "CFAOiDdr57st",
        "colab": {
          "base_uri": "https://localhost:8080/"
        },
        "outputId": "7b350624-1167-4a4e-d451-c52807be73d4"
      },
      "execution_count": null,
      "outputs": [
        {
          "output_type": "stream",
          "name": "stdout",
          "text": [
            "x1  : [3 3 0 2 2]\n",
            "x2  : [4 1 1 2 4]\n",
            "common :  [2]\n"
          ]
        }
      ]
    },
    {
      "cell_type": "markdown",
      "source": [
        "#### 31. How to ignore all numpy warnings (not recommended)? (★☆☆) \n",
        "(**hint**: np.seterr, np.errstate)"
      ],
      "metadata": {
        "id": "faOr88AUbNWF"
      }
    },
    {
      "cell_type": "code",
      "source": [
        "defaults = np.seterr(all=\"ignore\")\n",
        "Z = np.ones(1) / 0\n",
        "\n",
        "# Back to sanity\n",
        "_ = np.seterr(**defaults)\n",
        "\n",
        "# Equivalently with a context manager\n",
        "with np.errstate(all=\"ignore\"):\n",
        "    np.arange(3) / 0\n"
      ],
      "metadata": {
        "id": "hfCvmBluaxvT"
      },
      "execution_count": null,
      "outputs": []
    },
    {
      "cell_type": "markdown",
      "source": [
        "#### 32. Is the following expressions true? (★☆☆) \n",
        "(**hint**: imaginary number)"
      ],
      "metadata": {
        "id": "qzksfFWUkX1R"
      }
    },
    {
      "cell_type": "markdown",
      "source": [
        "```python\n",
        "np.sqrt(-1) == np.emath.sqrt(-1)\n",
        "```"
      ],
      "metadata": {
        "id": "4DuL50gVkmPy"
      }
    },
    {
      "cell_type": "code",
      "source": [
        "print(np.sqrt(-1))"
      ],
      "metadata": {
        "colab": {
          "base_uri": "https://localhost:8080/"
        },
        "id": "y_W_dJa5kdOL",
        "outputId": "f7651978-227d-4504-8787-5257d9283faf"
      },
      "execution_count": null,
      "outputs": [
        {
          "output_type": "stream",
          "name": "stdout",
          "text": [
            "nan\n"
          ]
        }
      ]
    },
    {
      "cell_type": "code",
      "source": [
        "print(np.emath.sqrt(-1))"
      ],
      "metadata": {
        "colab": {
          "base_uri": "https://localhost:8080/"
        },
        "id": "ARFzllTjku7-",
        "outputId": "83688864-010f-4d52-ebf4-6675039fd396"
      },
      "execution_count": null,
      "outputs": [
        {
          "output_type": "stream",
          "name": "stdout",
          "text": [
            "1j\n"
          ]
        }
      ]
    },
    {
      "cell_type": "code",
      "source": [
        "print(np.sqrt(-1) == np.emath.sqrt(-1))"
      ],
      "metadata": {
        "colab": {
          "base_uri": "https://localhost:8080/"
        },
        "id": "-4KxLFdnk9DZ",
        "outputId": "5aeb2a3c-1b20-44d2-c2f0-8c8bb72dc594"
      },
      "execution_count": null,
      "outputs": [
        {
          "output_type": "stream",
          "name": "stdout",
          "text": [
            "False\n"
          ]
        }
      ]
    },
    {
      "cell_type": "markdown",
      "source": [
        "#### 33. How to get the dates of yesterday, today and tomorrow? (★☆☆) \n",
        "(**hint**: np.datetime64, np.timedelta64)"
      ],
      "metadata": {
        "id": "M3yNI00PlDQe"
      }
    },
    {
      "cell_type": "code",
      "source": [
        "yesterday = np.datetime64('today','D')- np.timedelta64(1,'D')\n",
        "today = np.datetime64('today','D')\n",
        "tomorrow = np.datetime64('today', 'D') + np.timedelta64(1, 'D')\n",
        "\n",
        "print('yesterday :', yesterday)\n",
        "print('today :', today)\n",
        "print('tomorrow :', tomorrow)"
      ],
      "metadata": {
        "colab": {
          "base_uri": "https://localhost:8080/"
        },
        "id": "U__vsrwelC4f",
        "outputId": "6d30d27e-cf5d-4756-9aeb-d13eca68921c"
      },
      "execution_count": null,
      "outputs": [
        {
          "output_type": "stream",
          "name": "stdout",
          "text": [
            "yesterday : 2021-12-27\n",
            "today : 2021-12-28\n",
            "tomorrow : 2021-12-29\n"
          ]
        }
      ]
    },
    {
      "cell_type": "markdown",
      "source": [
        "#### 34. How to get all the dates corresponding to the month of July 2016? (★★☆) \n",
        "(**hint**: np.arange(dtype=datetime64\\['D'\\]))"
      ],
      "metadata": {
        "id": "OxrCmFwQorlM"
      }
    },
    {
      "cell_type": "code",
      "source": [
        "dates_july = np.arange('2016-07', '2016-08', dtype='datetime64[D]')\n",
        "print(dates_july)"
      ],
      "metadata": {
        "colab": {
          "base_uri": "https://localhost:8080/"
        },
        "id": "JmElb0W5oyLe",
        "outputId": "d884de6f-2896-4995-cdd4-c5c637a19d72"
      },
      "execution_count": null,
      "outputs": [
        {
          "output_type": "stream",
          "name": "stdout",
          "text": [
            "['2016-07-01' '2016-07-02' '2016-07-03' '2016-07-04' '2016-07-05'\n",
            " '2016-07-06' '2016-07-07' '2016-07-08' '2016-07-09' '2016-07-10'\n",
            " '2016-07-11' '2016-07-12' '2016-07-13' '2016-07-14' '2016-07-15'\n",
            " '2016-07-16' '2016-07-17' '2016-07-18' '2016-07-19' '2016-07-20'\n",
            " '2016-07-21' '2016-07-22' '2016-07-23' '2016-07-24' '2016-07-25'\n",
            " '2016-07-26' '2016-07-27' '2016-07-28' '2016-07-29' '2016-07-30'\n",
            " '2016-07-31']\n"
          ]
        }
      ]
    },
    {
      "cell_type": "markdown",
      "source": [
        "#### 35. How to compute ((A+B)\\*(-A/2)) in place (without copy)? (★★☆) \n",
        "(**hint**: np.add(out=), np.negative(out=), np.multiply(out=), np.divide(out=))"
      ],
      "metadata": {
        "id": "UekSoXzPpx2d"
      }
    },
    {
      "cell_type": "code",
      "source": [
        "a = np.ones(3)*1\n",
        "b = np.ones(3)*2\n",
        "\n",
        "print(a)\n",
        "print(b)\n",
        "np.add(a,b, out = b)\n",
        "np.divide(a,2, out = a)\n",
        "np.negative(a, out = a)\n",
        "np.multiply(b,a, out = a)\n",
        "\n",
        "\n",
        "\n"
      ],
      "metadata": {
        "colab": {
          "base_uri": "https://localhost:8080/"
        },
        "id": "s-NVD6BNp4-t",
        "outputId": "d2cf6b66-705a-4db2-bc55-caa8c964027a"
      },
      "execution_count": null,
      "outputs": [
        {
          "output_type": "stream",
          "name": "stdout",
          "text": [
            "[1. 1. 1.]\n",
            "[2. 2. 2.]\n"
          ]
        },
        {
          "output_type": "execute_result",
          "data": {
            "text/plain": [
              "array([-1.5, -1.5, -1.5])"
            ]
          },
          "metadata": {},
          "execution_count": 37
        }
      ]
    },
    {
      "cell_type": "markdown",
      "source": [
        "#### 36. Extract the integer part of a random array using 5 different methods (★★☆) \n",
        "(**hint**: %, np.floor, np.ceil, astype, np.trunc)"
      ],
      "metadata": {
        "id": "opUl90EptrET"
      }
    },
    {
      "cell_type": "code",
      "source": [
        "x = np.random.uniform(1,10,10)\n",
        "print(x)\n",
        "\n",
        "#x_% = x - x%1\n",
        "print('% :', x - x%1)\n",
        "\n",
        "x_floor = np.floor(x)\n",
        "print('np.floor :', x_floor)\n",
        "\n",
        "x_ceil = np.ceil(x)-1\n",
        "print('x_ceil :', x_ceil)\n",
        "\n",
        "x_astype = x.astype(int)\n",
        "print('int :', x_astype)\n",
        "\n",
        "x_trunc = np.trunc(x)\n",
        "print('x_trunc :', x_trunc)\n"
      ],
      "metadata": {
        "colab": {
          "base_uri": "https://localhost:8080/"
        },
        "id": "egCo876htyXr",
        "outputId": "4c95341c-6ca4-4cb8-ad59-4a21793f6cb0"
      },
      "execution_count": null,
      "outputs": [
        {
          "output_type": "stream",
          "name": "stdout",
          "text": [
            "[6.65292193 9.10730471 7.45207463 6.28123886 2.24039417 5.65618849\n",
            " 7.49675484 2.19487857 4.45216792 2.09163362]\n",
            "% : [6. 9. 7. 6. 2. 5. 7. 2. 4. 2.]\n",
            "np.floor : [6. 9. 7. 6. 2. 5. 7. 2. 4. 2.]\n",
            "x_ceil : [6. 9. 7. 6. 2. 5. 7. 2. 4. 2.]\n",
            "int : [6 9 7 6 2 5 7 2 4 2]\n",
            "x_trunc : [6. 9. 7. 6. 2. 5. 7. 2. 4. 2.]\n"
          ]
        }
      ]
    },
    {
      "cell_type": "markdown",
      "source": [
        "#### 37. Create a 5x5 matrix with row values ranging from 0 to 4 (★★☆) \n",
        "(**hint**: np.arange)"
      ],
      "metadata": {
        "id": "SarLRoZewcXE"
      }
    },
    {
      "cell_type": "code",
      "source": [
        "z = np.zeros((5,5))\n",
        "z += np.arange(5)\n",
        "print(z)"
      ],
      "metadata": {
        "colab": {
          "base_uri": "https://localhost:8080/"
        },
        "id": "Z560OiMfwj2H",
        "outputId": "cf1d4e88-34c6-42c9-9a61-975764a106cb"
      },
      "execution_count": null,
      "outputs": [
        {
          "output_type": "stream",
          "name": "stdout",
          "text": [
            "[[0. 1. 2. 3. 4.]\n",
            " [0. 1. 2. 3. 4.]\n",
            " [0. 1. 2. 3. 4.]\n",
            " [0. 1. 2. 3. 4.]\n",
            " [0. 1. 2. 3. 4.]]\n"
          ]
        }
      ]
    },
    {
      "cell_type": "markdown",
      "source": [
        "#### 38. Consider a generator function that generates 10 integers and use it to build an array (★☆☆) \n",
        "(**hint**: np.fromiter)"
      ],
      "metadata": {
        "id": "5L7KyYonxIbH"
      }
    },
    {
      "cell_type": "code",
      "source": [
        "def generator():\n",
        "  for i in range(10):\n",
        "    yield i\n",
        "\n",
        "x = np.fromiter(generator(),dtype = int, count = -1)\n",
        "x"
      ],
      "metadata": {
        "colab": {
          "base_uri": "https://localhost:8080/"
        },
        "id": "3yiJwJJfxNpK",
        "outputId": "a5084d8a-9c04-4fb6-93a7-c8e937497d10"
      },
      "execution_count": null,
      "outputs": [
        {
          "output_type": "execute_result",
          "data": {
            "text/plain": [
              "array([0, 1, 2, 3, 4, 5, 6, 7, 8, 9])"
            ]
          },
          "metadata": {},
          "execution_count": 52
        }
      ]
    },
    {
      "cell_type": "markdown",
      "source": [
        "#### 39. Create a vector of size 10 with values ranging from 0 to 1, both excluded (★★☆) \n",
        "(**hint**: np.linspace)"
      ],
      "metadata": {
        "id": "8YBcjPtVzBjk"
      }
    },
    {
      "cell_type": "code",
      "source": [
        "x = np.linspace(start = 0, stop = 1,endpoint=False,num=11)[1:]\n",
        "print(x)"
      ],
      "metadata": {
        "colab": {
          "base_uri": "https://localhost:8080/"
        },
        "id": "iFVcZpYWy4Kp",
        "outputId": "7ad1545c-8215-44e9-bc91-5b6bcfa9f0f4"
      },
      "execution_count": null,
      "outputs": [
        {
          "output_type": "stream",
          "name": "stdout",
          "text": [
            "[0.09090909 0.18181818 0.27272727 0.36363636 0.45454545 0.54545455\n",
            " 0.63636364 0.72727273 0.81818182 0.90909091]\n"
          ]
        }
      ]
    },
    {
      "cell_type": "markdown",
      "source": [
        "#### 40. Create a random vector of size 10 and sort it (★★☆) \n",
        "(**hint**: sort)"
      ],
      "metadata": {
        "id": "FoyvZmyWOps2"
      }
    },
    {
      "cell_type": "code",
      "source": [
        "x = np.random.random(10)\n",
        "x.sort()\n",
        "print(x)"
      ],
      "metadata": {
        "colab": {
          "base_uri": "https://localhost:8080/"
        },
        "id": "UW1G8o7pOvSF",
        "outputId": "72bdfb70-a27a-4309-e070-f987d93d6e2a"
      },
      "execution_count": null,
      "outputs": [
        {
          "output_type": "stream",
          "name": "stdout",
          "text": [
            "[0.34307394 0.36058084 0.41096463 0.54489764 0.55238627 0.62327874\n",
            " 0.76582899 0.83300337 0.87506015 0.90019878]\n"
          ]
        }
      ]
    },
    {
      "cell_type": "markdown",
      "source": [
        "#### 41. How to sum a small array faster than np.sum? (★★☆) \n",
        "(**hint**: np.add.reduce)"
      ],
      "metadata": {
        "id": "zYU89WSCPEFB"
      }
    },
    {
      "cell_type": "code",
      "source": [
        "x = np.arange(5)\n",
        "print(x)\n",
        "print('sum_np.add.reduce :', np.add.reduce(x))"
      ],
      "metadata": {
        "colab": {
          "base_uri": "https://localhost:8080/"
        },
        "id": "meocAax0Vd2L",
        "outputId": "4113be35-c83f-4ef5-a937-2c0ff181c11b"
      },
      "execution_count": null,
      "outputs": [
        {
          "output_type": "stream",
          "name": "stdout",
          "text": [
            "[0 1 2 3 4]\n",
            "sum_np.add.reduce : 10\n"
          ]
        }
      ]
    },
    {
      "cell_type": "markdown",
      "source": [
        "#### 42. Consider two random array A and B, check if they are equal (★★☆) \n",
        "(**hint**: np.allclose, np.array\\_equal)"
      ],
      "metadata": {
        "id": "uTh54cREX9Oy"
      }
    },
    {
      "cell_type": "code",
      "source": [
        "a = np.random.randint(0,5,5)\n",
        "b = np.random.randint(0,5,5)\n",
        "print(a)\n",
        "print(b)\n",
        "equal = np.allclose(a,b)   \n",
        "print('allclose :', equal)\n",
        "equal_1 = np.array_equal(a,b)\n",
        "print('array_equal :', equal_1)"
      ],
      "metadata": {
        "colab": {
          "base_uri": "https://localhost:8080/"
        },
        "id": "g4Q2v3zXX-bg",
        "outputId": "198e1eba-0b38-4cb3-a984-b528d2047bb8"
      },
      "execution_count": null,
      "outputs": [
        {
          "output_type": "stream",
          "name": "stdout",
          "text": [
            "[3 4 0 0 0]\n",
            "[0 1 3 3 4]\n",
            "allclose : False\n",
            "array_equal : False\n"
          ]
        }
      ]
    },
    {
      "cell_type": "markdown",
      "source": [
        "#### 43. Make an array immutable (read-only) (★★☆) \n",
        "(**hint**: flags.writeable)"
      ],
      "metadata": {
        "id": "xLALqlTyY7uy"
      }
    },
    {
      "cell_type": "code",
      "source": [
        "x = np.ones(10)\n",
        "print(x)\n",
        "x.flags.writeable = False\n",
        "x[3] = 2\n",
        "print(x)"
      ],
      "metadata": {
        "colab": {
          "base_uri": "https://localhost:8080/",
          "height": 234
        },
        "id": "rXhgNNu1ZBFa",
        "outputId": "8111c93e-488f-4c9b-ef8b-d92b80645caa"
      },
      "execution_count": null,
      "outputs": [
        {
          "output_type": "stream",
          "name": "stdout",
          "text": [
            "[1. 1. 1. 1. 1. 1. 1. 1. 1. 1.]\n"
          ]
        },
        {
          "output_type": "error",
          "ename": "ValueError",
          "evalue": "ignored",
          "traceback": [
            "\u001b[0;31m---------------------------------------------------------------------------\u001b[0m",
            "\u001b[0;31mValueError\u001b[0m                                Traceback (most recent call last)",
            "\u001b[0;32m<ipython-input-63-147d3d3cc4ab>\u001b[0m in \u001b[0;36m<module>\u001b[0;34m()\u001b[0m\n\u001b[1;32m      2\u001b[0m \u001b[0mprint\u001b[0m\u001b[0;34m(\u001b[0m\u001b[0mx\u001b[0m\u001b[0;34m)\u001b[0m\u001b[0;34m\u001b[0m\u001b[0;34m\u001b[0m\u001b[0m\n\u001b[1;32m      3\u001b[0m \u001b[0mx\u001b[0m\u001b[0;34m.\u001b[0m\u001b[0mflags\u001b[0m\u001b[0;34m.\u001b[0m\u001b[0mwriteable\u001b[0m \u001b[0;34m=\u001b[0m \u001b[0;32mFalse\u001b[0m\u001b[0;34m\u001b[0m\u001b[0;34m\u001b[0m\u001b[0m\n\u001b[0;32m----> 4\u001b[0;31m \u001b[0mx\u001b[0m\u001b[0;34m[\u001b[0m\u001b[0;36m3\u001b[0m\u001b[0;34m]\u001b[0m \u001b[0;34m=\u001b[0m \u001b[0;36m2\u001b[0m\u001b[0;34m\u001b[0m\u001b[0;34m\u001b[0m\u001b[0m\n\u001b[0m\u001b[1;32m      5\u001b[0m \u001b[0mprint\u001b[0m\u001b[0;34m(\u001b[0m\u001b[0mx\u001b[0m\u001b[0;34m)\u001b[0m\u001b[0;34m\u001b[0m\u001b[0;34m\u001b[0m\u001b[0m\n",
            "\u001b[0;31mValueError\u001b[0m: assignment destination is read-only"
          ]
        }
      ]
    },
    {
      "cell_type": "markdown",
      "source": [
        "#### 44. Consider a random 10x2 matrix representing cartesian coordinates, convert them to polar coordinates (★★☆) \n",
        "(**hint**: np.sqrt, np.arctan2)"
      ],
      "metadata": {
        "id": "0TerBJyZZ2Xe"
      }
    },
    {
      "cell_type": "code",
      "source": [
        "a = np.random.random((10,2))\n",
        "\n",
        "x , y = a[:,0],a[:,1]\n",
        "print('cartesian coordinates  :','\\n')\n",
        "print('x    : ',x,'\\n')\n",
        "print('y    :',y,'\\n')\n",
        "print('polar coordinates  :','\\n')\n",
        "r = np.sqrt(x**2 + y**2)\n",
        "t = np.arctan2(x,y)\n",
        "print('r      :',r,'\\n')\n",
        "print('t      :', t,'\\n')"
      ],
      "metadata": {
        "colab": {
          "base_uri": "https://localhost:8080/"
        },
        "id": "6Nv0ZGT4Z8Vr",
        "outputId": "ccae722e-45c5-4392-d84a-61ebe1dee476"
      },
      "execution_count": null,
      "outputs": [
        {
          "output_type": "stream",
          "name": "stdout",
          "text": [
            "cartesian coordinates  : \n",
            "\n",
            "x    :  [0.87487275 0.51461812 0.97826999 0.16969221 0.10131214 0.53397596\n",
            " 0.02557449 0.6301806  0.54423565 0.40222606] \n",
            "\n",
            "y    : [0.35007801 0.38702577 0.90727328 0.17195791 0.70975084 0.03698967\n",
            " 0.47498453 0.85145921 0.47565267 0.72457556] \n",
            "\n",
            "polar coordinates  : \n",
            "\n",
            "r      : [0.94231467 0.64391051 1.33422523 0.24158843 0.71694519 0.53525561\n",
            " 0.47567253 1.05929711 0.72279866 0.82873129] \n",
            "\n",
            "t      : [1.19016293 0.92597556 0.82303357 0.77876664 0.14178544 1.50163465\n",
            " 0.05379085 0.63714681 0.85254265 0.50676527] \n",
            "\n"
          ]
        }
      ]
    },
    {
      "cell_type": "markdown",
      "source": [
        "#### 45. Create random vector of size 10 and replace the maximum value by 0 (★★☆) \n",
        "(**hint**: argmax)"
      ],
      "metadata": {
        "id": "M72JgH-ZdgL9"
      }
    },
    {
      "cell_type": "code",
      "source": [
        "x = np.random.random(10)\n",
        "x[x.argmax()]=0\n",
        "print(x)"
      ],
      "metadata": {
        "colab": {
          "base_uri": "https://localhost:8080/"
        },
        "id": "jqSWTp1AdFkR",
        "outputId": "05d78fc8-5a0a-4721-b842-8934bd0ea10d"
      },
      "execution_count": null,
      "outputs": [
        {
          "output_type": "stream",
          "name": "stdout",
          "text": [
            "[0.80003461 0.         0.74566755 0.90481392 0.42267744 0.00320815\n",
            " 0.98863528 0.94182868 0.89220411 0.1893303 ]\n"
          ]
        }
      ]
    },
    {
      "cell_type": "markdown",
      "source": [
        "#### 46. Create a structured array with `x` and `y` coordinates covering the \\[0,1\\]x\\[0,1\\] area (★★☆) \n",
        "(**hint**: np.meshgrid)"
      ],
      "metadata": {
        "id": "8NKrd65MeKJr"
      }
    },
    {
      "cell_type": "code",
      "source": [
        "z = np.zeros((5,5),[('x',float),('y',float)])\n",
        "z['x'],z['y'] = np.meshgrid(np.linspace(0,1,5),(np.linspace(0,1,5)))\n",
        "print(z)"
      ],
      "metadata": {
        "colab": {
          "base_uri": "https://localhost:8080/"
        },
        "id": "mycvTQjeeQ5f",
        "outputId": "68836bb0-932b-4835-8f52-0489d92d2aa9"
      },
      "execution_count": null,
      "outputs": [
        {
          "output_type": "stream",
          "name": "stdout",
          "text": [
            "[[(0.  , 0.  ) (0.25, 0.  ) (0.5 , 0.  ) (0.75, 0.  ) (1.  , 0.  )]\n",
            " [(0.  , 0.25) (0.25, 0.25) (0.5 , 0.25) (0.75, 0.25) (1.  , 0.25)]\n",
            " [(0.  , 0.5 ) (0.25, 0.5 ) (0.5 , 0.5 ) (0.75, 0.5 ) (1.  , 0.5 )]\n",
            " [(0.  , 0.75) (0.25, 0.75) (0.5 , 0.75) (0.75, 0.75) (1.  , 0.75)]\n",
            " [(0.  , 1.  ) (0.25, 1.  ) (0.5 , 1.  ) (0.75, 1.  ) (1.  , 1.  )]]\n"
          ]
        }
      ]
    },
    {
      "cell_type": "markdown",
      "source": [
        "####  47. Given two arrays, X and Y, construct the Cauchy matrix C (Cij =1/(xi - yj)) \n",
        "(**hint**: np.subtract.outer)"
      ],
      "metadata": {
        "id": "W_KHPhKFguj0"
      }
    },
    {
      "cell_type": "code",
      "source": [
        "x = np.arange(8)\n",
        "y = x + 0.5\n",
        "c = 1.0/np.subtract.outer(x,y)\n",
        "print(np.linalg.det(c))"
      ],
      "metadata": {
        "colab": {
          "base_uri": "https://localhost:8080/"
        },
        "id": "4hmQv_z3gviX",
        "outputId": "53665064-f6da-4013-8e83-4a75ef011f3a"
      },
      "execution_count": null,
      "outputs": [
        {
          "output_type": "stream",
          "name": "stdout",
          "text": [
            "3638.1636371179666\n"
          ]
        }
      ]
    },
    {
      "cell_type": "markdown",
      "source": [
        "#### 48. Print the minimum and maximum representable value for each numpy scalar type (★★☆) \n",
        "(**hint**: np.iinfo, np.finfo, eps)"
      ],
      "metadata": {
        "id": "LxR39ot5j70f"
      }
    },
    {
      "cell_type": "code",
      "source": [
        "for dtype in [np.int8, np.int32, np.int64]:\n",
        "  print('np.iinfo(dtype).min    :',dtype,np.iinfo(dtype).min)\n",
        "  print('np.iinfo(dtype).max    :',dtype,np.iinfo(dtype).max)\n",
        "\n",
        "for dtype in [np.float32, np.float64]:\n",
        "  print('np.finfo(dtype).min    :',dtype, np.finfo(dtype).min)\n",
        "  print('np.finfo(dtype).max    :',dtype,np.finfo(dtype).max)\n",
        "  print('np.finfo(dtype)eps     :',dtype,np.finfo(dtype).eps)  \n"
      ],
      "metadata": {
        "colab": {
          "base_uri": "https://localhost:8080/"
        },
        "id": "9cLyWu_rkEYy",
        "outputId": "48a27154-4faf-43f7-817a-f0f8f28c3423"
      },
      "execution_count": null,
      "outputs": [
        {
          "output_type": "stream",
          "name": "stdout",
          "text": [
            "np.iinfo(dtype).min    : <class 'numpy.int8'> -128\n",
            "np.iinfo(dtype).max    : <class 'numpy.int8'> 127\n",
            "np.iinfo(dtype).min    : <class 'numpy.int32'> -2147483648\n",
            "np.iinfo(dtype).max    : <class 'numpy.int32'> 2147483647\n",
            "np.iinfo(dtype).min    : <class 'numpy.int64'> -9223372036854775808\n",
            "np.iinfo(dtype).max    : <class 'numpy.int64'> 9223372036854775807\n",
            "np.finfo(dtype).min    : <class 'numpy.float32'> -3.4028235e+38\n",
            "np.finfo(dtype).max    : <class 'numpy.float32'> 3.4028235e+38\n",
            "np.finfo(dtype)eps     : <class 'numpy.float32'> 1.1920929e-07\n",
            "np.finfo(dtype).min    : <class 'numpy.float64'> -1.7976931348623157e+308\n",
            "np.finfo(dtype).max    : <class 'numpy.float64'> 1.7976931348623157e+308\n",
            "np.finfo(dtype)eps     : <class 'numpy.float64'> 2.220446049250313e-16\n"
          ]
        }
      ]
    },
    {
      "cell_type": "markdown",
      "source": [
        "#### 49. How to print all the values of an array? (★★☆) \n",
        "(**hint**: np.set\\_printoptions)"
      ],
      "metadata": {
        "id": "ZrdC2OAPmKqH"
      }
    },
    {
      "cell_type": "code",
      "source": [
        "np.set_printoptions(threshold=np.inf, linewidth=np.nan)\n",
        "z = np.ones((5,5))\n",
        "print(z)"
      ],
      "metadata": {
        "colab": {
          "base_uri": "https://localhost:8080/"
        },
        "id": "pe7Xi_F0mQPC",
        "outputId": "30857628-fc24-46e2-cbff-f25602738352"
      },
      "execution_count": null,
      "outputs": [
        {
          "output_type": "stream",
          "name": "stdout",
          "text": [
            "[[1. 1. 1. 1. 1.]\n",
            " [1. 1. 1. 1. 1.]\n",
            " [1. 1. 1. 1. 1.]\n",
            " [1. 1. 1. 1. 1.]\n",
            " [1. 1. 1. 1. 1.]]\n"
          ]
        }
      ]
    },
    {
      "cell_type": "markdown",
      "source": [
        "#### 50. How to find the closest value (to a given scalar) in a vector? (★★☆) \n",
        "(**hint**: argmin)"
      ],
      "metadata": {
        "id": "fDGfRGbznuSm"
      }
    },
    {
      "cell_type": "code",
      "source": [
        "x = np.random.random(10)\n",
        "v = np.random.uniform(0,10)\n",
        "print('x',x)\n",
        "print('v',v)\n",
        "z = np.abs(x-v).argmin()\n",
        "print('z :',z)\n",
        "print('closest  :',x[z])\n"
      ],
      "metadata": {
        "colab": {
          "base_uri": "https://localhost:8080/"
        },
        "id": "ev3i9P39n_KN",
        "outputId": "15024705-5044-4422-df04-bf101d11e4a7"
      },
      "execution_count": null,
      "outputs": [
        {
          "output_type": "stream",
          "name": "stdout",
          "text": [
            "x [0.47971905 0.61050267 0.7125133  0.07850128 0.66585086 0.84789567 0.00195667 0.1423454  0.30387535 0.65668999]\n",
            "v 2.8645868838347677\n",
            "z : 5\n",
            "closest  : 0.847895667561219\n"
          ]
        }
      ]
    },
    {
      "cell_type": "markdown",
      "source": [
        "#### 51. Create a structured array representing a position (x,y) and a color (r,g,b) (★★☆) \n",
        "(**hint**: dtype)"
      ],
      "metadata": {
        "id": "1fier8lzqbPF"
      }
    },
    {
      "cell_type": "code",
      "source": [
        "a = np.zeros(10,[('position',[('x',float),('y',float)]),\n",
        "                 ('color',[('r',float),('g',float),('b',float)])])\n",
        "print(a)"
      ],
      "metadata": {
        "colab": {
          "base_uri": "https://localhost:8080/"
        },
        "id": "gy4DokAsqp8F",
        "outputId": "5c4a571f-42f4-4a6a-ce82-c468421c11b2"
      },
      "execution_count": null,
      "outputs": [
        {
          "output_type": "stream",
          "name": "stdout",
          "text": [
            "[((0., 0.), (0., 0., 0.)) ((0., 0.), (0., 0., 0.)) ((0., 0.), (0., 0., 0.)) ((0., 0.), (0., 0., 0.)) ((0., 0.), (0., 0., 0.)) ((0., 0.), (0., 0., 0.)) ((0., 0.), (0., 0., 0.)) ((0., 0.), (0., 0., 0.)) ((0., 0.), (0., 0., 0.)) ((0., 0.), (0., 0., 0.))]\n"
          ]
        }
      ]
    },
    {
      "cell_type": "markdown",
      "source": [
        "#### 52. Consider a random vector with shape (100,2) representing coordinates, find point by point distances (★★☆) \n",
        "(**hint**: np.atleast\\_2d, T, np.sqrt)"
      ],
      "metadata": {
        "id": "z3qXaE8Msiwj"
      }
    },
    {
      "cell_type": "code",
      "source": [
        "z = np.random.random((10,2))\n",
        "x,y = np.atleast_2d(z[:,0],z[:,1])\n",
        "d = np.sqrt((x-x.T)**2 + (y-y.T)**2)\n",
        "\n",
        "print(d)"
      ],
      "metadata": {
        "colab": {
          "base_uri": "https://localhost:8080/"
        },
        "id": "ysAFSf9kspdw",
        "outputId": "7ca103a7-6c24-4bdb-c3f0-331b60f20dee"
      },
      "execution_count": null,
      "outputs": [
        {
          "output_type": "stream",
          "name": "stdout",
          "text": [
            "[[0.         0.2485448  0.62541564 0.65523766 0.36942996 0.61840501 0.93429598 0.37781475 1.00280585 0.2875958 ]\n",
            " [0.2485448  0.         0.70690021 0.71379097 0.20292565 0.68912578 0.86460057 0.35233681 0.9395691  0.42856226]\n",
            " [0.62541564 0.70690021 0.         0.06747925 0.59197778 0.03251229 0.52682822 0.37693173 0.56106026 0.34205025]\n",
            " [0.65523766 0.71379097 0.06747925 0.         0.58204669 0.04609382 0.45969655 0.37050511 0.49361856 0.37991803]\n",
            " [0.36942996 0.20292565 0.59197778 0.58204669 0.         0.56780011 0.66644299 0.21524044 0.74218519 0.40389332]\n",
            " [0.61840501 0.68912578 0.03251229 0.04609382 0.56780011 0.         0.49954209 0.3534419  0.53625522 0.33915957]\n",
            " [0.93429598 0.86460057 0.52682822 0.45969655 0.66644299 0.49954209 0.         0.55672095 0.07659638 0.73618228]\n",
            " [0.37781475 0.35233681 0.37693173 0.37050511 0.21524044 0.3534419  0.55672095 0.         0.62618828 0.24911142]\n",
            " [1.00280585 0.9395691  0.56106026 0.49361856 0.74218519 0.53625522 0.07659638 0.62618828 0.         0.79472749]\n",
            " [0.2875958  0.42856226 0.34205025 0.37991803 0.40389332 0.33915957 0.73618228 0.24911142 0.79472749 0.        ]]\n"
          ]
        }
      ]
    },
    {
      "cell_type": "code",
      "source": [
        "z = np.random.random((100,2))\n",
        "print(z)\n",
        "x,y = np.atleast_2d(z[:,0],z[:,1])\n",
        "d = np.sqrt((x-x.T)**2 + (y-y.T)**2)\n",
        "print(d)"
      ],
      "metadata": {
        "id": "Al6LXeiu4phW"
      },
      "execution_count": null,
      "outputs": []
    },
    {
      "cell_type": "markdown",
      "source": [
        "#### 53. How to convert a float (32 bits) array into an integer (32 bits) in place? \n",
        "(**hint**: astype(copy=False))"
      ],
      "metadata": {
        "id": "JcZ_gVhY3LMl"
      }
    },
    {
      "cell_type": "code",
      "source": [
        "z = np.arange(10, dtype=np.float32)\n",
        "print(z)\n",
        "z1 = z.astype(dtype=np.int32, copy = False)\n",
        "print(z1)"
      ],
      "metadata": {
        "colab": {
          "base_uri": "https://localhost:8080/"
        },
        "id": "xQgo1S273QGY",
        "outputId": "0f359d47-66bf-4739-af69-5860b4fbf71d"
      },
      "execution_count": null,
      "outputs": [
        {
          "output_type": "stream",
          "name": "stdout",
          "text": [
            "[0. 1. 2. 3. 4. 5. 6. 7. 8. 9.]\n",
            "[0 1 2 3 4 5 6 7 8 9]\n"
          ]
        }
      ]
    },
    {
      "cell_type": "markdown",
      "source": [
        "#### 54. How to read the following file? (★★☆) \n",
        "(**hint**: np.genfromtxt)"
      ],
      "metadata": {
        "id": "u-E3p3pA7XGO"
      }
    },
    {
      "cell_type": "markdown",
      "source": [
        "```\n",
        "1, 2, 3, 4, 5\n",
        "6,  ,  , 7, 8\n",
        " ,  , 9,10,11\n",
        "```"
      ],
      "metadata": {
        "id": "X_LtOfvp7jDm"
      }
    },
    {
      "cell_type": "code",
      "source": [
        "from io import StringIO\n",
        "s = StringIO(\"\"\"1, 2, 3, 4, 5\\n\n",
        "                6,  ,  , 7, 8\\n\n",
        "                 ,  , 9,10,11\\n \"\"\")\n",
        "x = np.genfromtxt(s,dtype=np.int,delimiter=',')\n",
        "print(x)"
      ],
      "metadata": {
        "colab": {
          "base_uri": "https://localhost:8080/"
        },
        "id": "xse6bbMT7bx4",
        "outputId": "697f7fb2-778f-4891-e1d7-c361c178f070"
      },
      "execution_count": null,
      "outputs": [
        {
          "output_type": "stream",
          "name": "stdout",
          "text": [
            "[[ 1  2  3  4  5]\n",
            " [ 6 -1 -1  7  8]\n",
            " [-1 -1  9 10 11]]\n"
          ]
        }
      ]
    },
    {
      "cell_type": "code",
      "source": [
        "from io import StringIO\n",
        "s = StringIO()\n",
        "s.write('''1, 2, 3, 4, 5\\n6,  ,  , 7, 8\\n,  , 9, 10, 11\\n''')\n",
        "print(s.getvalue())\n"
      ],
      "metadata": {
        "colab": {
          "base_uri": "https://localhost:8080/"
        },
        "id": "ao62SHb0QWLa",
        "outputId": "33c0484a-bc45-46e2-9c47-94efef8beda9"
      },
      "execution_count": null,
      "outputs": [
        {
          "output_type": "stream",
          "name": "stdout",
          "text": [
            "1, 2, 3, 4, 5\n",
            "6,  ,  , 7, 8\n",
            ",  , 9, 10, 11\n",
            "\n"
          ]
        }
      ]
    },
    {
      "cell_type": "markdown",
      "source": [
        "#### 55. What is the equivalent of enumerate for numpy arrays? (★★☆) \n",
        "(**hint**: np.ndenumerate, np.ndindex)"
      ],
      "metadata": {
        "id": "tg56hp3lJIxx"
      }
    },
    {
      "cell_type": "code",
      "source": [
        "x = np.arange(4).reshape(2,2)\n",
        "print(x)\n",
        "print('np.ndenumerate\\n')\n",
        "for index,value in np.ndenumerate(x):\n",
        "  print(index,value)\n",
        "print('np.ndindex\\n')\n",
        "for index in np.ndindex(x.shape):\n",
        "  print(index,x[index])  "
      ],
      "metadata": {
        "colab": {
          "base_uri": "https://localhost:8080/"
        },
        "id": "rDqPzniVJmc6",
        "outputId": "3aca1af3-271f-49d0-eee9-f191c4899d3c"
      },
      "execution_count": null,
      "outputs": [
        {
          "output_type": "stream",
          "name": "stdout",
          "text": [
            "[[0 1]\n",
            " [2 3]]\n",
            "np.ndenumerate\n",
            "\n",
            "(0, 0) 0\n",
            "(0, 1) 1\n",
            "(1, 0) 2\n",
            "(1, 1) 3\n",
            "np.ndindex\n",
            "\n",
            "(0, 0) 0\n",
            "(0, 1) 1\n",
            "(1, 0) 2\n",
            "(1, 1) 3\n"
          ]
        }
      ]
    },
    {
      "cell_type": "markdown",
      "source": [
        "#### 56. Generate a generic 2D Gaussian-like array (★★☆) \n",
        "(**hint**: np.meshgrid, np.exp)"
      ],
      "metadata": {
        "id": "PJdHBvAHLg14"
      }
    },
    {
      "cell_type": "code",
      "source": [
        "x,y = np.meshgrid(np.linspace(-1,1,10),np.linspace(-1,1,10))\n",
        "d = np.sqrt(x*x + y*y)\n",
        "sigma , mu = 1.0, 0.0\n",
        "g = np.exp(-((d-mu)**2/(2.0*sigma**2)))\n",
        "print(g)"
      ],
      "metadata": {
        "colab": {
          "base_uri": "https://localhost:8080/"
        },
        "id": "E4AOeSehLioi",
        "outputId": "84509d50-dd93-4e8c-b3ea-20cf31071ec0"
      },
      "execution_count": null,
      "outputs": [
        {
          "output_type": "stream",
          "name": "stdout",
          "text": [
            "[[0.36787944 0.44822088 0.51979489 0.57375342 0.60279818 0.60279818 0.57375342 0.51979489 0.44822088 0.36787944]\n",
            " [0.44822088 0.54610814 0.63331324 0.69905581 0.73444367 0.73444367 0.69905581 0.63331324 0.54610814 0.44822088]\n",
            " [0.51979489 0.63331324 0.73444367 0.81068432 0.85172308 0.85172308 0.81068432 0.73444367 0.63331324 0.51979489]\n",
            " [0.57375342 0.69905581 0.81068432 0.89483932 0.9401382  0.9401382  0.89483932 0.81068432 0.69905581 0.57375342]\n",
            " [0.60279818 0.73444367 0.85172308 0.9401382  0.98773022 0.98773022 0.9401382  0.85172308 0.73444367 0.60279818]\n",
            " [0.60279818 0.73444367 0.85172308 0.9401382  0.98773022 0.98773022 0.9401382  0.85172308 0.73444367 0.60279818]\n",
            " [0.57375342 0.69905581 0.81068432 0.89483932 0.9401382  0.9401382  0.89483932 0.81068432 0.69905581 0.57375342]\n",
            " [0.51979489 0.63331324 0.73444367 0.81068432 0.85172308 0.85172308 0.81068432 0.73444367 0.63331324 0.51979489]\n",
            " [0.44822088 0.54610814 0.63331324 0.69905581 0.73444367 0.73444367 0.69905581 0.63331324 0.54610814 0.44822088]\n",
            " [0.36787944 0.44822088 0.51979489 0.57375342 0.60279818 0.60279818 0.57375342 0.51979489 0.44822088 0.36787944]]\n"
          ]
        }
      ]
    },
    {
      "cell_type": "markdown",
      "source": [
        "#### 57. How to randomly place p elements in a 2D array? (★★☆) \n",
        "(**hint**: np.put, np.random.choice)"
      ],
      "metadata": {
        "id": "Ps5DTGZTPnJS"
      }
    },
    {
      "cell_type": "code",
      "source": [
        "p = 4\n",
        "n = 5\n",
        "x = np.ones((5,5))\n",
        "np.put(x,np.random.choice(n,p,replace=False),5)\n",
        "print(x)"
      ],
      "metadata": {
        "colab": {
          "base_uri": "https://localhost:8080/"
        },
        "id": "28JES9D4PsJb",
        "outputId": "a53b5b65-34bd-4ae7-cafd-c6c592212e2e"
      },
      "execution_count": null,
      "outputs": [
        {
          "output_type": "stream",
          "name": "stdout",
          "text": [
            "[[5. 1. 5. 5. 5.]\n",
            " [1. 1. 1. 1. 1.]\n",
            " [1. 1. 1. 1. 1.]\n",
            " [1. 1. 1. 1. 1.]\n",
            " [1. 1. 1. 1. 1.]]\n"
          ]
        }
      ]
    },
    {
      "cell_type": "code",
      "source": [
        "p = 4\n",
        "n = 5\n",
        "x = np.ones((5,5))\n",
        "np.put(x,np.random.choice(n*n,p,replace=False),2)\n",
        "print(x)"
      ],
      "metadata": {
        "colab": {
          "base_uri": "https://localhost:8080/"
        },
        "id": "2Lxx6KizX8W9",
        "outputId": "4b2aa8b7-5518-4eca-9765-e2cfc4ab79d8"
      },
      "execution_count": null,
      "outputs": [
        {
          "output_type": "stream",
          "name": "stdout",
          "text": [
            "[[1. 1. 1. 1. 1.]\n",
            " [1. 1. 1. 1. 1.]\n",
            " [1. 1. 1. 2. 1.]\n",
            " [1. 1. 1. 1. 2.]\n",
            " [2. 1. 2. 1. 1.]]\n"
          ]
        }
      ]
    },
    {
      "cell_type": "markdown",
      "source": [
        "#### 58. Subtract the mean of each row of a matrix (★★☆) \n",
        "(**hint**: mean(axis=,keepdims=))"
      ],
      "metadata": {
        "id": "xZxAVDYPYB0A"
      }
    },
    {
      "cell_type": "code",
      "source": [
        "x = np.random.random((5,5))\n",
        "\n",
        "y = x - x.mean(axis = 1, keepdims=True)\n",
        "print(y)"
      ],
      "metadata": {
        "colab": {
          "base_uri": "https://localhost:8080/"
        },
        "id": "rdOGgzndYGz1",
        "outputId": "0f50af4c-ec1d-4bbd-f7ec-77b8ecbc0944"
      },
      "execution_count": null,
      "outputs": [
        {
          "output_type": "stream",
          "name": "stdout",
          "text": [
            "[[-0.06669758 -0.27874462  0.30423088 -0.37688742  0.41809874]\n",
            " [ 0.05282038  0.27421993  0.0819889  -0.22395724 -0.18507196]\n",
            " [-0.09940385 -0.38136997  0.10363208  0.42532674 -0.048185  ]\n",
            " [ 0.13951472  0.21032224 -0.1050832  -0.01206944 -0.23268432]\n",
            " [ 0.04904593  0.17457592  0.04635421 -0.31795587  0.04797981]]\n"
          ]
        }
      ]
    },
    {
      "cell_type": "markdown",
      "source": [
        "#### 59. How to sort an array by the nth column? (★★☆) \n",
        "(**hint**: argsort)"
      ],
      "metadata": {
        "id": "rUzE6EWnnI4M"
      }
    },
    {
      "cell_type": "code",
      "source": [
        "x = np.random.randint(0,9,(3,3))\n",
        "print(x,'\\n')\n",
        "\n",
        "z = x[:,2]\n",
        "print('nth column :', z, '\\n')\n",
        "\n",
        "print('sorted by nth column :')\n",
        "print(x[z.argsort()])"
      ],
      "metadata": {
        "colab": {
          "base_uri": "https://localhost:8080/"
        },
        "id": "JD_MV3r0nKW2",
        "outputId": "d884dc81-ea08-4b6e-8233-f8c00383d5fb"
      },
      "execution_count": null,
      "outputs": [
        {
          "output_type": "stream",
          "name": "stdout",
          "text": [
            "[[2 3 8]\n",
            " [8 6 6]\n",
            " [5 7 0]] \n",
            "\n",
            "nth column : [8 6 0] \n",
            "\n",
            "sorted by nth column :\n",
            "[[5 7 0]\n",
            " [8 6 6]\n",
            " [2 3 8]]\n"
          ]
        }
      ]
    },
    {
      "cell_type": "markdown",
      "source": [
        "#### 60. How to tell if a given 2D array has null columns? (★★☆) \n",
        "(**hint**: any, ~)"
      ],
      "metadata": {
        "id": "A93cHW1u4hEi"
      }
    },
    {
      "cell_type": "code",
      "source": [
        "x = np.random.randint(0,10,(2,5))\n",
        "print(x)\n",
        "print((~x.any(axis=0)).any())"
      ],
      "metadata": {
        "colab": {
          "base_uri": "https://localhost:8080/"
        },
        "id": "dJph3YVV6fHk",
        "outputId": "bf75aee4-fbad-4ea0-8f09-e2de56cbd23b"
      },
      "execution_count": null,
      "outputs": [
        {
          "output_type": "stream",
          "name": "stdout",
          "text": [
            "[[2 9 8 4 2]\n",
            " [8 2 7 2 7]]\n",
            "False\n"
          ]
        }
      ]
    },
    {
      "cell_type": "markdown",
      "source": [
        "#### 61. Find the nearest value from a given value in an array (★★☆) \n",
        "(**hint**: np.abs, argmin, flat)"
      ],
      "metadata": {
        "id": "rLrCBm6S7r6J"
      }
    },
    {
      "cell_type": "code",
      "source": [
        "x = np.arange(10)\n",
        "print(x)\n",
        "k = 4.5\n",
        "m = x.flat[np.abs(x-k).argmin()]\n",
        "print(m)"
      ],
      "metadata": {
        "colab": {
          "base_uri": "https://localhost:8080/"
        },
        "id": "DO4Y0t877xnk",
        "outputId": "879f98c0-8741-473b-f504-4e1b4018c177"
      },
      "execution_count": null,
      "outputs": [
        {
          "output_type": "stream",
          "name": "stdout",
          "text": [
            "[0 1 2 3 4 5 6 7 8 9]\n",
            "4\n"
          ]
        }
      ]
    },
    {
      "cell_type": "markdown",
      "source": [
        "#### 62. Considering two arrays with shape (1,3) and (3,1), how to compute their sum using an iterator? (★★☆) \n",
        "(**hint**: np.nditer)"
      ],
      "metadata": {
        "id": "UcLi-5Om93Qn"
      }
    },
    {
      "cell_type": "code",
      "source": [
        "x = np.arange(3).reshape(1,3)\n",
        "y = np.arange(3).reshape(3,1)\n",
        "\n",
        "it = np.nditer([x,y,None])\n",
        "for x,y,z in it:\n",
        "  z[...] = x+y\n",
        "print(it.operands[2])  \n"
      ],
      "metadata": {
        "id": "jY7SoDx099OU",
        "colab": {
          "base_uri": "https://localhost:8080/"
        },
        "outputId": "80c3b867-2a18-46c8-a2de-c8ef09bd9f4d"
      },
      "execution_count": null,
      "outputs": [
        {
          "output_type": "stream",
          "name": "stdout",
          "text": [
            "[[0 1 2]\n",
            " [1 2 3]\n",
            " [2 3 4]]\n"
          ]
        }
      ]
    },
    {
      "cell_type": "markdown",
      "source": [
        "#### 63. Create an array class that has a name attribute (★★☆) \n",
        "(**hint**: class method)"
      ],
      "metadata": {
        "id": "nDMMtVwQFCOO"
      }
    },
    {
      "cell_type": "code",
      "source": [
        "class named(np.ndarray):\n",
        "  def __new__(cls, array, name = \"no name\"):\n",
        "    obj = np.asarray(array).view(cls)\n",
        "    obj.name = name\n",
        "    return obj\n",
        "  def __array_finalize__(self,obj):\n",
        "    if obj is None:\n",
        "      return\n",
        "    self.info = getattr(obj, 'name', 'no name')  "
      ],
      "metadata": {
        "id": "Spk6Ciz4EuO5"
      },
      "execution_count": null,
      "outputs": []
    },
    {
      "cell_type": "code",
      "source": [
        "z = named(np.arange(10), \"range_10\")\n",
        "print(z.name)"
      ],
      "metadata": {
        "colab": {
          "base_uri": "https://localhost:8080/"
        },
        "id": "vZKCeLSqHPj1",
        "outputId": "3a310d25-c77b-4865-fcd6-12d52819bb65"
      },
      "execution_count": null,
      "outputs": [
        {
          "output_type": "stream",
          "name": "stdout",
          "text": [
            "range_10\n"
          ]
        }
      ]
    },
    {
      "cell_type": "markdown",
      "source": [
        "#### 64. Consider a given vector, how to add 1 to each element indexed by a second vector (be careful with repeated indices)? (★★★) \n",
        "(**hint**: np.bincount | np.add.at)"
      ],
      "metadata": {
        "id": "djxctuDSIbHR"
      }
    },
    {
      "cell_type": "code",
      "source": [
        "x = np.ones(10)\n",
        "\n",
        "y = np.random.randint(0,len(x),20)\n",
        "\n",
        "x += np.bincount(y,minlength=len(x))\n",
        "print(x)"
      ],
      "metadata": {
        "colab": {
          "base_uri": "https://localhost:8080/"
        },
        "id": "swd4ceyOHurt",
        "outputId": "ff5e86ff-6c94-4ff1-cc53-0a11a018c30f"
      },
      "execution_count": null,
      "outputs": [
        {
          "output_type": "stream",
          "name": "stdout",
          "text": [
            "[3. 2. 4. 3. 2. 3. 4. 2. 3. 4.]\n"
          ]
        }
      ]
    },
    {
      "cell_type": "code",
      "source": [
        "np.add.at(x,y,1)\n",
        "print(x)"
      ],
      "metadata": {
        "colab": {
          "base_uri": "https://localhost:8080/"
        },
        "id": "RPmY2vujQi35",
        "outputId": "cec1a38f-991a-42e0-a556-cb67774860fe"
      },
      "execution_count": null,
      "outputs": [
        {
          "output_type": "stream",
          "name": "stdout",
          "text": [
            "[5. 3. 7. 5. 3. 5. 7. 3. 5. 7.]\n"
          ]
        }
      ]
    },
    {
      "cell_type": "markdown",
      "source": [
        "#### 65. How to accumulate elements of a vector (X) to an array (F) based on an index list (I)? (★★★) \n",
        "(**hint**: np.bincount)"
      ],
      "metadata": {
        "id": "Ri_lGNn1Rc7j"
      }
    },
    {
      "cell_type": "code",
      "source": [
        "x = [1,2,3,4,5]\n",
        "i = [3,4,5,9,12]\n",
        "\n",
        "z = np.bincount(i,x)\n",
        "print(z)"
      ],
      "metadata": {
        "colab": {
          "base_uri": "https://localhost:8080/"
        },
        "id": "JNpFeFm1Ri9Y",
        "outputId": "e2675104-1b3b-44d3-dd36-1f3eeeb1dce6"
      },
      "execution_count": null,
      "outputs": [
        {
          "output_type": "stream",
          "name": "stdout",
          "text": [
            "[0. 0. 0. 1. 2. 3. 0. 0. 0. 4. 0. 0. 5.]\n"
          ]
        }
      ]
    },
    {
      "cell_type": "markdown",
      "source": [
        "#### 66. Considering a (w,h,3) image of (dtype=ubyte), compute the number of unique colors (★★★) \n",
        "(**hint**: np.unique)"
      ],
      "metadata": {
        "id": "HVhqkX-dSyKA"
      }
    },
    {
      "cell_type": "code",
      "source": [
        "w , h = 256 , 256\n",
        "i = np.random.randint(0,4,(h,w,3)).astype(np.ubyte)\n",
        "colors = np.unique(i.reshape(-1,3),axis=0)\n",
        "n = len(colors)\n",
        "print(n)"
      ],
      "metadata": {
        "colab": {
          "base_uri": "https://localhost:8080/"
        },
        "id": "tMXjMszeTT_n",
        "outputId": "f09d2bb7-f751-428d-9445-d1bec15a5d36"
      },
      "execution_count": null,
      "outputs": [
        {
          "output_type": "stream",
          "name": "stdout",
          "text": [
            "64\n"
          ]
        }
      ]
    },
    {
      "cell_type": "markdown",
      "source": [
        "#### 67. Considering a four dimensions array, how to get sum over the last two axis at once? (★★★) \n",
        "(**hint**: sum(axis=(-2,-1)))"
      ],
      "metadata": {
        "id": "C6e4benUVJjT"
      }
    },
    {
      "cell_type": "code",
      "source": [
        "A = np.random.randint(0,10,(2,4,3,4))\n",
        "sum = A.sum(axis=(-2,-1))\n",
        "print(sum)"
      ],
      "metadata": {
        "colab": {
          "base_uri": "https://localhost:8080/"
        },
        "id": "245VcRK5nSpW",
        "outputId": "0a0a9086-52de-40c9-9a39-f0ed5251fdbd"
      },
      "execution_count": null,
      "outputs": [
        {
          "output_type": "stream",
          "name": "stdout",
          "text": [
            "[[57 47 46 38]\n",
            " [48 62 66 58]]\n"
          ]
        }
      ]
    },
    {
      "cell_type": "code",
      "source": [
        "sum_1 = A.reshape(A.shape[:-2]+(-1,)).sum(axis=(-1))\n",
        "print(sum_1)"
      ],
      "metadata": {
        "colab": {
          "base_uri": "https://localhost:8080/"
        },
        "id": "jDlHfpP3oD6f",
        "outputId": "8618f92f-f393-43db-9dc1-134475cc548d"
      },
      "execution_count": null,
      "outputs": [
        {
          "output_type": "stream",
          "name": "stdout",
          "text": [
            "[[57 47 46 38]\n",
            " [48 62 66 58]]\n"
          ]
        }
      ]
    },
    {
      "cell_type": "markdown",
      "source": [
        "#### 68. Considering a one-dimensional vector D, how to compute means of subsets of D using a vector S of same size describing subset  indices? (★★★) \n",
        "(**hint**: np.bincount)"
      ],
      "metadata": {
        "id": "1xmvsiaKqM33"
      }
    },
    {
      "cell_type": "code",
      "source": [
        "D = np.random.uniform(0,1,100)\n",
        "S =np.random.randint(0,10,100)\n",
        "D_sums = np.bincount(S, weights = D)\n",
        "D_counts = np.bincount(S)\n",
        "D_mean = D_sums / D_counts\n",
        "print(D_mean)"
      ],
      "metadata": {
        "colab": {
          "base_uri": "https://localhost:8080/"
        },
        "id": "IrDYK0VMo8i4",
        "outputId": "ce7ac751-f253-464d-c303-394a211df779"
      },
      "execution_count": null,
      "outputs": [
        {
          "output_type": "stream",
          "name": "stdout",
          "text": [
            "[0.71007152 0.39292218 0.5606044  0.49624774 0.55211855 0.49748764\n",
            " 0.45844345 0.5047203  0.34159433 0.39814787]\n"
          ]
        }
      ]
    },
    {
      "cell_type": "markdown",
      "source": [
        "#### 69. How to get the diagonal of a dot product? (★★★) \n",
        "(**hint**: np.diag)"
      ],
      "metadata": {
        "id": "moPodJ2R82s0"
      }
    },
    {
      "cell_type": "code",
      "source": [
        "a = np.random.uniform(0,10,(3,3))\n",
        "b = np.random.uniform(0,10,(3,3))\n",
        "c = np.diag(np.dot(a,b))\n",
        "print(c)"
      ],
      "metadata": {
        "id": "ertJt8tgVKp5",
        "colab": {
          "base_uri": "https://localhost:8080/"
        },
        "outputId": "f874c424-1184-431e-f261-15d3698edb46"
      },
      "execution_count": null,
      "outputs": [
        {
          "output_type": "stream",
          "name": "stdout",
          "text": [
            "[80.13080886 96.78277986 39.36651148]\n"
          ]
        }
      ]
    },
    {
      "cell_type": "markdown",
      "source": [
        "#### 70. Consider the vector \\[1, 2, 3, 4, 5\\], how to build a new vector with 3 consecutive zeros interleaved between each value? (★★★) \n",
        "(**hint**: array\\[::4\\])"
      ],
      "metadata": {
        "id": "Twwmq_zg84aR"
      }
    },
    {
      "cell_type": "code",
      "source": [
        "v = np.array([1,2,3,4,5])\n",
        "z = 3\n",
        "z_v = np.zeros(len(v) + (len(v)-1)*z)\n",
        "z_v[::z+1] = v\n",
        "print(z_v)"
      ],
      "metadata": {
        "colab": {
          "base_uri": "https://localhost:8080/"
        },
        "id": "86JS77Jz88t3",
        "outputId": "df67c7ae-e040-4ee6-b047-682aa52d6eeb"
      },
      "execution_count": null,
      "outputs": [
        {
          "output_type": "stream",
          "name": "stdout",
          "text": [
            "[1. 0. 0. 0. 2. 0. 0. 0. 3. 0. 0. 0. 4. 0. 0. 0. 5.]\n"
          ]
        }
      ]
    },
    {
      "cell_type": "markdown",
      "source": [
        "#### 71. Consider an array of dimension (5,5,3), how to mulitply it by an array with dimensions (5,5)? (★★★) \n",
        "(**hint**: array\\[:, :, None\\])"
      ],
      "metadata": {
        "id": "n52TYlEA_MTS"
      }
    },
    {
      "cell_type": "code",
      "source": [
        "a = np.ones((5,5,3))\n",
        "b = 3*np.ones((5,5))\n",
        "print(a*b[:,:,None])"
      ],
      "metadata": {
        "colab": {
          "base_uri": "https://localhost:8080/"
        },
        "id": "Ds529ZTk_RD4",
        "outputId": "abe0de15-9e82-4b71-dc33-251773cad969"
      },
      "execution_count": null,
      "outputs": [
        {
          "output_type": "stream",
          "name": "stdout",
          "text": [
            "[[[3. 3. 3.]\n",
            "  [3. 3. 3.]\n",
            "  [3. 3. 3.]\n",
            "  [3. 3. 3.]\n",
            "  [3. 3. 3.]]\n",
            "\n",
            " [[3. 3. 3.]\n",
            "  [3. 3. 3.]\n",
            "  [3. 3. 3.]\n",
            "  [3. 3. 3.]\n",
            "  [3. 3. 3.]]\n",
            "\n",
            " [[3. 3. 3.]\n",
            "  [3. 3. 3.]\n",
            "  [3. 3. 3.]\n",
            "  [3. 3. 3.]\n",
            "  [3. 3. 3.]]\n",
            "\n",
            " [[3. 3. 3.]\n",
            "  [3. 3. 3.]\n",
            "  [3. 3. 3.]\n",
            "  [3. 3. 3.]\n",
            "  [3. 3. 3.]]\n",
            "\n",
            " [[3. 3. 3.]\n",
            "  [3. 3. 3.]\n",
            "  [3. 3. 3.]\n",
            "  [3. 3. 3.]\n",
            "  [3. 3. 3.]]]\n"
          ]
        }
      ]
    },
    {
      "cell_type": "markdown",
      "source": [
        ""
      ],
      "metadata": {
        "id": "fXiM0JVr_6ik"
      }
    },
    {
      "cell_type": "markdown",
      "source": [
        "#### 72. How to swap two rows of an array? (★★★) \n",
        "(**hint**: array\\[\\[\\]\\] = array\\[\\[\\]\\])"
      ],
      "metadata": {
        "id": "a9PnzYsLAAuQ"
      }
    },
    {
      "cell_type": "code",
      "source": [
        "a = np.arange(15).reshape(3,5)\n",
        "print(a,'\\n')\n",
        "a[[1,0]] = a[[0,1]]\n",
        "print('swapping \\n')\n",
        "print(a)"
      ],
      "metadata": {
        "colab": {
          "base_uri": "https://localhost:8080/"
        },
        "id": "ewXEBitz_95m",
        "outputId": "73ba3543-8d75-452a-99e2-2f4aa3ec622a"
      },
      "execution_count": null,
      "outputs": [
        {
          "output_type": "stream",
          "name": "stdout",
          "text": [
            "[[ 0  1  2  3  4]\n",
            " [ 5  6  7  8  9]\n",
            " [10 11 12 13 14]] \n",
            "\n",
            "swapping \n",
            "\n",
            "[[ 5  6  7  8  9]\n",
            " [ 0  1  2  3  4]\n",
            " [10 11 12 13 14]]\n"
          ]
        }
      ]
    },
    {
      "cell_type": "markdown",
      "source": [
        "#### 73. Consider a set of 10 triplets describing 10 triangles (with shared vertices), find the set of unique line segments composing all the  triangles (★★★) \n",
        "(**hint**: repeat, np.roll, np.sort, view, np.unique)"
      ],
      "metadata": {
        "id": "ZEm8dBSYA1T0"
      }
    },
    {
      "cell_type": "code",
      "source": [
        "faces = np.random.randint(0,50,(10,3))\n",
        "f = np.roll(faces.repeat(2,axis=1),-1,axis=1)\n",
        "f = f.reshape(len(f)*3,2)\n",
        "f = np.sort(f,axis=1)\n",
        "g = f.view(dtype=[('p0',f.dtype),('p1',f.dtype)])\n",
        "g = np.unique(g)\n",
        "print(g)\n"
      ],
      "metadata": {
        "colab": {
          "base_uri": "https://localhost:8080/"
        },
        "id": "2H40WA0_A5aM",
        "outputId": "a8c28e3f-72f9-450d-90e8-ff368f05fb07"
      },
      "execution_count": null,
      "outputs": [
        {
          "output_type": "stream",
          "name": "stdout",
          "text": [
            "[( 3, 21) ( 3, 33) ( 7, 37) ( 7, 49) ( 9, 13) ( 9, 25) ( 9, 29) ( 9, 37)\n",
            " (12, 14) (12, 29) (13, 25) (14, 29) (14, 33) (14, 35) (19, 43) (19, 49)\n",
            " (20, 26) (20, 37) (21, 33) (23, 29) (23, 39) (26, 37) (29, 37) (29, 39)\n",
            " (33, 35) (36, 40) (36, 43) (37, 49) (40, 43) (43, 49)]\n"
          ]
        }
      ]
    },
    {
      "cell_type": "markdown",
      "source": [
        "#### 74. Given an array C that is a bincount, how to produce an array A such that np.bincount(A) == C? (★★★) \n",
        "(**hint**: np.repeat)"
      ],
      "metadata": {
        "id": "UG_IErbwIAmm"
      }
    },
    {
      "cell_type": "code",
      "source": [
        "c = np.bincount([1,1,2,3,4,4,6])\n",
        "print(c)\n",
        "a = np.repeat(np.arange(len(c)),c)\n",
        "print(a)\n"
      ],
      "metadata": {
        "colab": {
          "base_uri": "https://localhost:8080/"
        },
        "id": "IpG3BVLCH3f3",
        "outputId": "d533e295-2a90-48c7-a7fe-f4b7117d8294"
      },
      "execution_count": null,
      "outputs": [
        {
          "output_type": "stream",
          "name": "stdout",
          "text": [
            "[0 2 1 1 2 0 1]\n",
            "[1 1 2 3 4 4 6]\n"
          ]
        }
      ]
    },
    {
      "cell_type": "markdown",
      "source": [
        "#### 75. How to compute averages using a sliding window over an array? (★★★) \n",
        "(**hint**: np.cumsum)"
      ],
      "metadata": {
        "id": "TivkllFZJPM5"
      }
    },
    {
      "cell_type": "code",
      "source": [
        "def window_avg(a,n=3):\n",
        "  ret = np.cumsum(a,dtype=float)\n",
        "  ret[n:] = ret[n:] - ret[:-n]\n",
        "  return ret[n-1:]/n\n",
        "\n",
        "x = np.arange(20)\n",
        "print(x)\n",
        "y = window_avg(x,n=3)\n",
        "print(y)  \n",
        "\n"
      ],
      "metadata": {
        "colab": {
          "base_uri": "https://localhost:8080/"
        },
        "id": "y0rba6_aJULA",
        "outputId": "c2928f5a-a1ce-4029-cad2-29ae4b5eac22"
      },
      "execution_count": null,
      "outputs": [
        {
          "output_type": "stream",
          "name": "stdout",
          "text": [
            "[ 0  1  2  3  4  5  6  7  8  9 10 11 12 13 14 15 16 17 18 19]\n",
            "[ 1.  2.  3.  4.  5.  6.  7.  8.  9. 10. 11. 12. 13. 14. 15. 16. 17. 18.]\n"
          ]
        }
      ]
    },
    {
      "cell_type": "markdown",
      "source": [
        "#### 76. Consider a one-dimensional array Z, build a two-dimensional array whose first row is (Z\\[0\\],Z\\[1\\],Z\\[2\\]) and each subsequent row is  shifted by 1 (last row should be (Z\\[-3\\],Z\\[-2\\],Z\\[-1\\]) (★★★) \n",
        "(**hint**: from numpy.lib import stride_tricks)"
      ],
      "metadata": {
        "id": "80SoJBmlWF7t"
      }
    },
    {
      "cell_type": "code",
      "source": [
        "from numpy.lib import stride_tricks\n",
        "\n",
        "def numpy_stride(a,window):\n",
        "  shape = (a.size - window + 1,window)\n",
        "  strides = (a.strides[0],a.strides[0])\n",
        "  return stride_tricks.as_strided(a, shape = shape, strides = strides)\n",
        "\n",
        "x = numpy_stride(np.arange(10),3)\n",
        "x"
      ],
      "metadata": {
        "colab": {
          "base_uri": "https://localhost:8080/"
        },
        "id": "lwUcIsKlUybj",
        "outputId": "00fbc94a-45f8-4c45-e063-05a6c4a3ae4e"
      },
      "execution_count": null,
      "outputs": [
        {
          "output_type": "execute_result",
          "data": {
            "text/plain": [
              "array([[0, 1, 2],\n",
              "       [1, 2, 3],\n",
              "       [2, 3, 4],\n",
              "       [3, 4, 5],\n",
              "       [4, 5, 6],\n",
              "       [5, 6, 7],\n",
              "       [6, 7, 8],\n",
              "       [7, 8, 9]])"
            ]
          },
          "metadata": {},
          "execution_count": 87
        }
      ]
    },
    {
      "cell_type": "markdown",
      "source": [
        "#### 77. How to negate a boolean, or to change the sign of a float inplace? (★★★) \n",
        "(**hint**: np.logical_not, np.negative)"
      ],
      "metadata": {
        "id": "X_8f3ck-j-cy"
      }
    },
    {
      "cell_type": "code",
      "source": [
        "x = np.random.randint(0,10,10)\n",
        "print(x)\n",
        "np.logical_not(x, out=x)"
      ],
      "metadata": {
        "colab": {
          "base_uri": "https://localhost:8080/"
        },
        "id": "0a8cpB6TU4F7",
        "outputId": "0cd8cb83-212b-493f-f811-d95e06fca3a4"
      },
      "execution_count": null,
      "outputs": [
        {
          "output_type": "stream",
          "name": "stdout",
          "text": [
            "[0 0 5 7 6 4 7 7 9 6]\n"
          ]
        },
        {
          "output_type": "execute_result",
          "data": {
            "text/plain": [
              "array([1, 1, 0, 0, 0, 0, 0, 0, 0, 0])"
            ]
          },
          "metadata": {},
          "execution_count": 5
        }
      ]
    },
    {
      "cell_type": "code",
      "source": [
        "x = np.random.randint(0,10,10)\n",
        "print(x)\n",
        "np.negative(x, out = x)"
      ],
      "metadata": {
        "colab": {
          "base_uri": "https://localhost:8080/"
        },
        "id": "mnidnr0A32DM",
        "outputId": "8ab847a5-2a86-4262-f540-2baca5a54483"
      },
      "execution_count": null,
      "outputs": [
        {
          "output_type": "stream",
          "name": "stdout",
          "text": [
            "[8 9 3 8 4 2 6 6 3 6]\n"
          ]
        },
        {
          "output_type": "execute_result",
          "data": {
            "text/plain": [
              "array([-8, -9, -3, -8, -4, -2, -6, -6, -3, -6])"
            ]
          },
          "metadata": {},
          "execution_count": 7
        }
      ]
    },
    {
      "cell_type": "markdown",
      "source": [
        "#### 78. Consider 2 sets of points P0,P1 describing lines (2d) and a point p, how to compute distance from p to each line i  (P0\\[i\\],P1\\[i\\])? (★★★)"
      ],
      "metadata": {
        "id": "1f66VLX84KHK"
      }
    },
    {
      "cell_type": "code",
      "source": [
        "def distance(p0 , p1, p):\n",
        "  t = p1 - p0\n",
        "  L = (t**2).sum(axis=1)\n",
        "  u = -((p0[:,0]-p[...,0])*t[:,0] + (p1[:,1]-p[...,1])*t[:,1])/L\n",
        "  u = u.reshape(len(u),1)\n",
        "  d = p0 + u*t - p\n",
        "  return np.sort((d**2).sum(axis=1))\n",
        "p0 = np.random.uniform(-10,10,(10,2))\n",
        "p1 = np.random.uniform(-10,10,(10,2))\n",
        "p = np.random.uniform(-10,10,(1,2)) \n",
        "print(distance(p0,p1,p))"
      ],
      "metadata": {
        "id": "U3X-UurU4PK5",
        "colab": {
          "base_uri": "https://localhost:8080/"
        },
        "outputId": "a42b708a-734e-45de-92a0-2d0c366e8020"
      },
      "execution_count": null,
      "outputs": [
        {
          "output_type": "stream",
          "name": "stdout",
          "text": [
            "[  3.98461506   5.43884767  14.62046965  19.71214429  28.05351439\n",
            " 156.44146273 198.52844884 240.69168525 299.72344204 359.78947626]\n"
          ]
        }
      ]
    },
    {
      "cell_type": "markdown",
      "source": [
        "#### 79. Consider 2 sets of points P0,P1 describing lines (2d) and a set of points P, how to compute distance from each point j (P\\[j\\]) to each line i (P0\\[i\\],P1\\[i\\])? (★★★)"
      ],
      "metadata": {
        "id": "1aAiQn-N95cY"
      }
    },
    {
      "cell_type": "code",
      "source": [
        "def distance(p0,p1,p):\n",
        "  t = p1 - p0\n",
        "  L = (t**2).sum(axis=1)\n",
        "  u = -((p0[:,0]-p[...,0])*t[:,0] + (p1[:,1]-p[...,1])*t[:,1])/L\n",
        "  u = u.reshape(len(u),1)\n",
        "  d = p0 + u*t - p\n",
        "  return np.sort((d**2).sum(axis=1))\n",
        "\n",
        "p0 = np.random.uniform(-10,10,(10,2))\n",
        "p1 = np.random.uniform(-10,10,(10,2))\n",
        "p = np.random.uniform(-10,10,(10,2))\n",
        "print(np.array([distance(p0,p1,p_1) for p_1 in p]))  "
      ],
      "metadata": {
        "id": "DAyauoj19-QX"
      },
      "execution_count": null,
      "outputs": []
    },
    {
      "cell_type": "markdown",
      "source": [
        "#### 80. Consider an arbitrary array, write a function that extract a subpart with a fixed shape and centered on a given element (pad with a `fill` value when necessary) (★★★) \n",
        "(**hint**: minimum, maximum)"
      ],
      "metadata": {
        "id": "26mDhz5T6t7m"
      }
    },
    {
      "cell_type": "code",
      "source": [
        "a = np.random.randint(0,10,(10,10))\n",
        "shape = (5,5)\n",
        "fill = 0\n",
        "position = (1,1)\n",
        "\n",
        "r = np.ones(shape, dtype=a.dtype)*fill\n",
        "p = np.array(list(position)).astype(int)\n",
        "rs = np.array(list(r.shape)).astype(int)\n",
        "a_s = np.array(list(a.shape)).astype(int)\n",
        "\n",
        "r_start = np.zeros((len(shape),)).astype(int)\n",
        "r_stop = np.array(list(shape)).astype(int)\n",
        "a_start = p-rs//2\n",
        "a_stop = (p+rs//2) + rs%2\n",
        "\n",
        "r_start = (r_start - np.minimum(a_start,0)).tolist()\n",
        "a_start = (np.maximum(a_start,0)).tolist()\n",
        "r_stop = np.maximum(r_start,(r_stop - np.maximum(a_stop - a_s,0))).tolist()\n",
        "a_stop = (np.minimum(a_stop,a_s)).tolist()\n",
        "\n",
        "x = [slice(start,stop) for start,stop in zip(r_start,r_stop)]\n",
        "y = [slice(start,stop) for start,stop in zip(a_start,a_stop)]\n",
        "\n",
        "r[x] = a[y]\n",
        "\n",
        "print(r,'\\n')\n",
        "print(a)\n"
      ],
      "metadata": {
        "colab": {
          "base_uri": "https://localhost:8080/"
        },
        "id": "vTh5c81R6y9G",
        "outputId": "53649120-68f2-43c9-b59f-5bc3d207ab8b"
      },
      "execution_count": null,
      "outputs": [
        {
          "output_type": "stream",
          "name": "stdout",
          "text": [
            "[[0 0 0 0 0]\n",
            " [0 5 6 8 2]\n",
            " [0 4 0 6 5]\n",
            " [0 0 6 3 6]\n",
            " [0 8 4 8 0]] \n",
            "\n",
            "[[5 6 8 2 7 5 9 4 8 4]\n",
            " [4 0 6 5 1 4 9 9 3 1]\n",
            " [0 6 3 6 9 1 5 7 8 5]\n",
            " [8 4 8 0 0 0 6 6 8 6]\n",
            " [0 4 4 7 2 8 7 9 4 5]\n",
            " [3 9 6 9 2 3 5 1 5 0]\n",
            " [8 3 2 9 0 1 3 9 5 4]\n",
            " [0 5 9 4 0 9 8 8 8 3]\n",
            " [9 0 9 5 7 3 3 3 2 1]\n",
            " [7 6 2 1 8 3 5 3 4 8]]\n"
          ]
        },
        {
          "output_type": "stream",
          "name": "stderr",
          "text": [
            "/usr/local/lib/python3.7/dist-packages/ipykernel_launcher.py:24: FutureWarning: Using a non-tuple sequence for multidimensional indexing is deprecated; use `arr[tuple(seq)]` instead of `arr[seq]`. In the future this will be interpreted as an array index, `arr[np.array(seq)]`, which will result either in an error or a different result.\n"
          ]
        }
      ]
    },
    {
      "cell_type": "markdown",
      "source": [
        "#### 81. Consider an array Z = \\[1,2,3,4,5,6,7,8,9,10,11,12,13,14\\], how to generate an array R = \\[\\[1,2,3,4\\], \\[2,3,4,5\\], \\[3,4,5,6\\], ..., \\[11,12,13,14\\]\\]? (★★★) \n",
        "(**hint**: stride\\_tricks.as\\_strided)"
      ],
      "metadata": {
        "id": "DMZjFmN-4xPD"
      }
    },
    {
      "cell_type": "code",
      "source": [
        "from numpy.lib import stride_tricks\n",
        "a = np.arange(1,15,dtype = np.uint32)\n",
        "print(a)\n",
        "r = stride_tricks.as_strided(a,(11,4),(4,4))\n",
        "print(r)"
      ],
      "metadata": {
        "colab": {
          "base_uri": "https://localhost:8080/"
        },
        "id": "WMONAvIb43j_",
        "outputId": "5ecd465e-925c-4b9a-e7fa-35de2fa4cc0c"
      },
      "execution_count": null,
      "outputs": [
        {
          "output_type": "stream",
          "name": "stdout",
          "text": [
            "[ 1  2  3  4  5  6  7  8  9 10 11 12 13 14]\n",
            "[[ 1  2  3  4]\n",
            " [ 2  3  4  5]\n",
            " [ 3  4  5  6]\n",
            " [ 4  5  6  7]\n",
            " [ 5  6  7  8]\n",
            " [ 6  7  8  9]\n",
            " [ 7  8  9 10]\n",
            " [ 8  9 10 11]\n",
            " [ 9 10 11 12]\n",
            " [10 11 12 13]\n",
            " [11 12 13 14]]\n"
          ]
        }
      ]
    },
    {
      "cell_type": "markdown",
      "source": [
        "#### 82. Compute a matrix rank (★★★) \n",
        "(**hint**: np.linalg.svd) (suggestion: np.linalg.svd)"
      ],
      "metadata": {
        "id": "CyYLxt15_b7e"
      }
    },
    {
      "cell_type": "code",
      "source": [
        "# svd = singular value decomposition\n",
        "a = np.random.uniform(0,1,(10,10))\n",
        "u , s , v = np.linalg.svd(a)\n",
        "rank = np.sum(s > 1e-10)\n",
        "print(rank)"
      ],
      "metadata": {
        "id": "6t29njUV_h3c",
        "colab": {
          "base_uri": "https://localhost:8080/"
        },
        "outputId": "9dd487f0-363e-4747-df8f-d36631df656d"
      },
      "execution_count": null,
      "outputs": [
        {
          "output_type": "stream",
          "name": "stdout",
          "text": [
            "10\n"
          ]
        }
      ]
    },
    {
      "cell_type": "markdown",
      "source": [
        "#### 83. How to find the most frequent value in an array? \n",
        "(**hint**: np.bincount, argmax)"
      ],
      "metadata": {
        "id": "J4qe35Dy-07q"
      }
    },
    {
      "cell_type": "code",
      "source": [
        "x = np.random.randint(0,10,10)\n",
        "print(x)\n",
        "s = np.bincount(x).argmax()\n",
        "print(s)"
      ],
      "metadata": {
        "colab": {
          "base_uri": "https://localhost:8080/"
        },
        "id": "yehGd37i-5cF",
        "outputId": "3a4b6a82-99b8-4038-935f-b6d7806f32ce"
      },
      "execution_count": null,
      "outputs": [
        {
          "output_type": "stream",
          "name": "stdout",
          "text": [
            "[5 7 4 5 6 1 1 8 7 3]\n",
            "1\n"
          ]
        }
      ]
    },
    {
      "cell_type": "markdown",
      "source": [
        "#### 84. Extract all the contiguous 3x3 blocks from a random 10x10 matrix (★★★) \n",
        "(**hint**: stride\\_tricks.as\\_strided)"
      ],
      "metadata": {
        "id": "4WTtgWRu77zc"
      }
    },
    {
      "cell_type": "code",
      "source": [
        "from numpy.lib import stride_tricks\n",
        "s = np.random.randint(0,10,(10,10))\n",
        "n = 3\n",
        "i = 1 + (s.shape[0]-3)\n",
        "j = 1 + (s.shape[1]-3)\n",
        "c = stride_tricks.as_strided(s,shape=(i,j,n,n),strides=s.strides + s.strides)\n",
        "print(c)"
      ],
      "metadata": {
        "id": "AaU2bVCi8AfX"
      },
      "execution_count": null,
      "outputs": []
    },
    {
      "cell_type": "code",
      "source": [
        ""
      ],
      "metadata": {
        "id": "uwoj1oQh-tCW"
      },
      "execution_count": null,
      "outputs": []
    },
    {
      "cell_type": "markdown",
      "source": [
        "#### 85. Create a 2D array subclass such that Z\\[i,j\\] == Z\\[j,i\\] (★★★) \n",
        "(**hint**: class method)"
      ],
      "metadata": {
        "id": "EmfyhvSI4_sb"
      }
    },
    {
      "cell_type": "code",
      "source": [
        "class Symetric(np.ndarray):\n",
        "  def __setitem__(self,index,value):\n",
        "    i,j = index\n",
        "    super(Symetric,self).__setitem__((i,j),value)\n",
        "    super(Symetric,self).__setitem__((j,i),value)\n",
        "\n",
        "def symetric(z):\n",
        "  return np.asarray(z + z.T - np.diag(z.diagonal())).view(Symetric)    "
      ],
      "metadata": {
        "id": "CZLW3JLb6OXc"
      },
      "execution_count": null,
      "outputs": []
    },
    {
      "cell_type": "code",
      "source": [
        "s = symetric(np.random.randint(0,10,(5,5)))\n",
        "s[2,3] = 42\n",
        "print(s)"
      ],
      "metadata": {
        "colab": {
          "base_uri": "https://localhost:8080/"
        },
        "id": "1ZK7m4ZM7WAQ",
        "outputId": "a0f8ef0d-7ce8-4b7b-d8ae-8be3d6f15c25"
      },
      "execution_count": null,
      "outputs": [
        {
          "output_type": "stream",
          "name": "stdout",
          "text": [
            "[[ 7  5  7 10  0]\n",
            " [ 5  5 10 13  9]\n",
            " [ 7 10  3 42 15]\n",
            " [10 13 42  1  2]\n",
            " [ 0  9 15  2  2]]\n"
          ]
        }
      ]
    },
    {
      "cell_type": "markdown",
      "source": [
        "#### 86. Consider a set of p matrices wich shape (n,n) and a set of p vectors with shape (n,1). How to compute the sum of of the p matrix products at once? (result has shape (n,1)) (★★★) \n",
        "(**hint**: np.tensordot)"
      ],
      "metadata": {
        "id": "wP7BmWkCXSjI"
      }
    },
    {
      "cell_type": "code",
      "source": [
        "p , n  =  5, 5\n",
        "m = np.ones((p,n,n))\n",
        "v = np.ones((p,n,1))\n",
        "s = np.tensordot(m,v, axes = [[0,2],[0,1]])\n",
        "print(s)"
      ],
      "metadata": {
        "colab": {
          "base_uri": "https://localhost:8080/"
        },
        "id": "6GU26mvzXUcD",
        "outputId": "5544b8a2-8655-4d03-de3c-9640d26296b9"
      },
      "execution_count": null,
      "outputs": [
        {
          "output_type": "stream",
          "name": "stdout",
          "text": [
            "[[25.]\n",
            " [25.]\n",
            " [25.]\n",
            " [25.]\n",
            " [25.]]\n"
          ]
        }
      ]
    },
    {
      "cell_type": "markdown",
      "source": [
        "#### 87. Consider a 16x16 array, how to get the block-sum (block size is 4x4)? (★★★) \n",
        "(**hint**: np.add.reduceat)"
      ],
      "metadata": {
        "id": "LmxyUnRTY6-B"
      }
    },
    {
      "cell_type": "code",
      "source": [
        "x = np.ones((16,16))\n",
        "k = 4\n",
        "s = np.add.reduceat(np.add.reduceat(x, np.arange(0, x.shape[0], k), axis = 0) , np.arange(0, x.shape[1], k), axis = 1)\n",
        "print(x,'\\n')\n",
        "print(s,'\\n')"
      ],
      "metadata": {
        "colab": {
          "base_uri": "https://localhost:8080/"
        },
        "id": "WZwNob2tY8Uv",
        "outputId": "ebec63cd-c5f0-4fc7-9975-8567ee909959"
      },
      "execution_count": null,
      "outputs": [
        {
          "output_type": "stream",
          "name": "stdout",
          "text": [
            "[[1. 1. 1. 1. 1. 1. 1. 1. 1. 1. 1. 1. 1. 1. 1. 1.]\n",
            " [1. 1. 1. 1. 1. 1. 1. 1. 1. 1. 1. 1. 1. 1. 1. 1.]\n",
            " [1. 1. 1. 1. 1. 1. 1. 1. 1. 1. 1. 1. 1. 1. 1. 1.]\n",
            " [1. 1. 1. 1. 1. 1. 1. 1. 1. 1. 1. 1. 1. 1. 1. 1.]\n",
            " [1. 1. 1. 1. 1. 1. 1. 1. 1. 1. 1. 1. 1. 1. 1. 1.]\n",
            " [1. 1. 1. 1. 1. 1. 1. 1. 1. 1. 1. 1. 1. 1. 1. 1.]\n",
            " [1. 1. 1. 1. 1. 1. 1. 1. 1. 1. 1. 1. 1. 1. 1. 1.]\n",
            " [1. 1. 1. 1. 1. 1. 1. 1. 1. 1. 1. 1. 1. 1. 1. 1.]\n",
            " [1. 1. 1. 1. 1. 1. 1. 1. 1. 1. 1. 1. 1. 1. 1. 1.]\n",
            " [1. 1. 1. 1. 1. 1. 1. 1. 1. 1. 1. 1. 1. 1. 1. 1.]\n",
            " [1. 1. 1. 1. 1. 1. 1. 1. 1. 1. 1. 1. 1. 1. 1. 1.]\n",
            " [1. 1. 1. 1. 1. 1. 1. 1. 1. 1. 1. 1. 1. 1. 1. 1.]\n",
            " [1. 1. 1. 1. 1. 1. 1. 1. 1. 1. 1. 1. 1. 1. 1. 1.]\n",
            " [1. 1. 1. 1. 1. 1. 1. 1. 1. 1. 1. 1. 1. 1. 1. 1.]\n",
            " [1. 1. 1. 1. 1. 1. 1. 1. 1. 1. 1. 1. 1. 1. 1. 1.]\n",
            " [1. 1. 1. 1. 1. 1. 1. 1. 1. 1. 1. 1. 1. 1. 1. 1.]] \n",
            "\n",
            "[[16. 16. 16. 16.]\n",
            " [16. 16. 16. 16.]\n",
            " [16. 16. 16. 16.]\n",
            " [16. 16. 16. 16.]] \n",
            "\n"
          ]
        }
      ]
    },
    {
      "cell_type": "markdown",
      "source": [
        "#### 88. How to implement the Game of Life using numpy arrays? (★★★)"
      ],
      "metadata": {
        "id": "rffx270bbOo_"
      }
    },
    {
      "cell_type": "code",
      "source": [
        "def iterator(x):\n",
        "  # count neighbors\n",
        "  n = (x[0:-2,0:-2] + x[0:-2,1:-1] + x[0:-2,2:] + \n",
        "       x[1:-1,0:-2]                 +x[1:-1,2:] +\n",
        "       x[2:  ,0:-2] + x[2: ,1:-1] + x[2: ,2: ])\n",
        "  \n",
        "# Apply rules\n",
        "  birth = (n==3) & (x[1:-1,1:-1]==0)\n",
        "  survive = ((n==2) | (n==3)) & (x[1:-1,1:-1]==1)\n",
        "  x[...] = 0\n",
        "  x[1:-1,1:-1][birth | survive] = 1\n",
        "  return x\n",
        "\n",
        "x = np.random.randint(0,2,(50,50))\n",
        "for i in range(100): x = iterator(x)"
      ],
      "metadata": {
        "id": "-DHQKpX5bVR-"
      },
      "execution_count": null,
      "outputs": []
    },
    {
      "cell_type": "markdown",
      "source": [
        "#### 89. How to get the n largest values of an array (★★★) \n",
        "(**hint**: np.argsort | np.argpartition)"
      ],
      "metadata": {
        "id": "ywX-oj5NjfrL"
      }
    },
    {
      "cell_type": "code",
      "source": [
        "x = np.arange(1000)\n",
        "np.random.shuffle(x)\n",
        "n = 5\n",
        "\n",
        "print(x[(np.argsort(x))[-n:]])\n"
      ],
      "metadata": {
        "colab": {
          "base_uri": "https://localhost:8080/"
        },
        "id": "4sSFwm_9jk20",
        "outputId": "b7cc3035-78e3-4282-c69c-812b1397f1c7"
      },
      "execution_count": null,
      "outputs": [
        {
          "output_type": "stream",
          "name": "stdout",
          "text": [
            "[995 996 997 998 999]\n"
          ]
        }
      ]
    },
    {
      "cell_type": "code",
      "source": [
        "print(x[np.argpartition(-x,n)[:n]])"
      ],
      "metadata": {
        "colab": {
          "base_uri": "https://localhost:8080/"
        },
        "id": "omrPbitkkbEG",
        "outputId": "7ece6932-9798-401a-e67b-84a2ae08b596"
      },
      "execution_count": null,
      "outputs": [
        {
          "output_type": "stream",
          "name": "stdout",
          "text": [
            "[997 999 998 996 995]\n"
          ]
        }
      ]
    },
    {
      "cell_type": "markdown",
      "source": [
        "#### 90. Given an arbitrary number of vectors, build the cartesian product (every combinations of every item) (★★★) \n",
        "(**hint**: np.indices)"
      ],
      "metadata": {
        "id": "Qrri1Ib8ksyM"
      }
    },
    {
      "cell_type": "code",
      "source": [
        "def cartesian(arrays):\n",
        "  arrays = [np.asarray(a) for a in arrays]\n",
        "  shape = (len(x) for x in arrays)\n",
        "\n",
        "  ix = np.indices(shape, dtype = int)\n",
        "  ix = ix.reshape(len(arrays),-1).T\n",
        "\n",
        "  for n, arr in enumerate(arrays):\n",
        "    ix[:,n] = arrays[n][ix[:,n]]\n",
        "  return ix\n",
        "\n",
        "print(cartesian(([1,2,3],[4,5],[6,7])))    "
      ],
      "metadata": {
        "colab": {
          "base_uri": "https://localhost:8080/"
        },
        "id": "uwC2IrGjkw0w",
        "outputId": "46561555-2743-435a-c903-255665cf9d66"
      },
      "execution_count": null,
      "outputs": [
        {
          "output_type": "stream",
          "name": "stdout",
          "text": [
            "[[1 4 6]\n",
            " [1 4 7]\n",
            " [1 5 6]\n",
            " [1 5 7]\n",
            " [2 4 6]\n",
            " [2 4 7]\n",
            " [2 5 6]\n",
            " [2 5 7]\n",
            " [3 4 6]\n",
            " [3 4 7]\n",
            " [3 5 6]\n",
            " [3 5 7]]\n"
          ]
        }
      ]
    },
    {
      "cell_type": "markdown",
      "source": [
        "#### 91. How to create a record array from a regular array? (★★★) \n",
        "(**hint**: np.core.records.fromarrays)"
      ],
      "metadata": {
        "id": "w0gP1tNXpSPf"
      }
    },
    {
      "cell_type": "code",
      "source": [
        "a = np.array([(\"Hello\", 2.5, 3),(\"World\", 3.6, 2)])\n",
        "r = np.core.records.fromarrays(a.T, names = 'col1, col2, col3', formats = 'S8, f8, i8')\n",
        "\n",
        "print(r)\n"
      ],
      "metadata": {
        "colab": {
          "base_uri": "https://localhost:8080/"
        },
        "id": "wnYtNauXpZhe",
        "outputId": "a6504729-ffdb-40d9-a5d4-6c2dce0d1100"
      },
      "execution_count": null,
      "outputs": [
        {
          "output_type": "stream",
          "name": "stdout",
          "text": [
            "[(b'Hello', 2.5, 3) (b'World', 3.6, 2)]\n"
          ]
        }
      ]
    },
    {
      "cell_type": "markdown",
      "source": [
        "#### 92. Consider a large vector Z, compute Z to the power of 3 using 3 different methods (★★★) \n",
        "(**hint**: np.power, \\*, np.einsum)"
      ],
      "metadata": {
        "id": "EGcF0SGdq4Ov"
      }
    },
    {
      "cell_type": "code",
      "source": [
        "x = np.random.rand(int(5e7))\n",
        "s = np.power(x,3)\n",
        "print(s)\n",
        "\n",
        "s1 = x*x*x\n",
        "print(s1)\n",
        "\n",
        "s3 = np.einsum('i,i,i->i',x,x,x)\n",
        "print(s3)"
      ],
      "metadata": {
        "colab": {
          "base_uri": "https://localhost:8080/"
        },
        "id": "J6z95W8-qtki",
        "outputId": "a2d8377b-1fa0-44df-fb74-d08ce64a8f48"
      },
      "execution_count": null,
      "outputs": [
        {
          "output_type": "stream",
          "name": "stdout",
          "text": [
            "[0.01070648 0.35649115 0.00126052 ... 0.54110571 0.20287756 0.00834722]\n",
            "[0.01070648 0.35649115 0.00126052 ... 0.54110571 0.20287756 0.00834722]\n",
            "[0.01070648 0.35649115 0.00126052 ... 0.54110571 0.20287756 0.00834722]\n"
          ]
        }
      ]
    },
    {
      "cell_type": "markdown",
      "source": [
        "#### 93. Consider two arrays A and B of shape (8,3) and (2,2). How to find rows of A that contain elements of each row of B regardless of the order of the elements in B? (★★★) \n",
        "(**hint**: np.where)"
      ],
      "metadata": {
        "id": "OLGwT-JP5dM6"
      }
    },
    {
      "cell_type": "code",
      "source": [
        "a = np.random.randint(0,5,(3,3))\n",
        "b = np.random.randint(0,5,(2,2))\n",
        "print(a,'\\n')\n",
        "print('.......')\n",
        "print(b,'\\n')\n",
        "c = (a[...,np.newaxis,np.newaxis] == b)\n",
        "rows = np.where(c.any((3,1)).all(1))[0]\n",
        "print(rows)"
      ],
      "metadata": {
        "colab": {
          "base_uri": "https://localhost:8080/"
        },
        "id": "IvmOiHtR5izj",
        "outputId": "ed084e7a-4b63-4e5f-bc85-05584798c4bb"
      },
      "execution_count": null,
      "outputs": [
        {
          "output_type": "stream",
          "name": "stdout",
          "text": [
            "[[4 0 2]\n",
            " [1 1 0]\n",
            " [2 1 1]] \n",
            "\n",
            ".......\n",
            "[[2 1]\n",
            " [0 0]] \n",
            "\n",
            "[0 1]\n"
          ]
        }
      ]
    },
    {
      "cell_type": "markdown",
      "source": [
        "#### 94. Considering a 10x3 matrix, extract rows with unequal values (e.g. \\[2,2,3\\]) (★★★)"
      ],
      "metadata": {
        "id": "eG05364HCV_k"
      }
    },
    {
      "cell_type": "code",
      "source": [
        "a = np.random.randint(0,10,(10,3))\n",
        "print(a)\n",
        "print('............')\n",
        "e = np.all(a[:,1:] == a[:,:-1], axis = 1)\n",
        "u = a[~e]\n",
        "print(u)"
      ],
      "metadata": {
        "colab": {
          "base_uri": "https://localhost:8080/"
        },
        "id": "zx2BVArSCaj3",
        "outputId": "8cf1a9c2-c2a9-48e1-9c14-83d4aabab9a0"
      },
      "execution_count": null,
      "outputs": [
        {
          "output_type": "stream",
          "name": "stdout",
          "text": [
            "[[3 4 7]\n",
            " [8 2 0]\n",
            " [7 2 5]\n",
            " [5 5 5]\n",
            " [3 5 8]\n",
            " [8 9 1]\n",
            " [1 6 2]\n",
            " [7 1 8]\n",
            " [2 7 4]\n",
            " [3 7 0]]\n",
            "............\n",
            "[[3 4 7]\n",
            " [8 2 0]\n",
            " [7 2 5]\n",
            " [3 5 8]\n",
            " [8 9 1]\n",
            " [1 6 2]\n",
            " [7 1 8]\n",
            " [2 7 4]\n",
            " [3 7 0]]\n"
          ]
        }
      ]
    },
    {
      "cell_type": "markdown",
      "source": [
        "#### 95. Convert a vector of ints into a matrix binary representation (★★★) \n",
        "(**hint**: np.unpackbits)"
      ],
      "metadata": {
        "id": "fI3qsAz1DnxZ"
      }
    },
    {
      "cell_type": "code",
      "source": [
        "i = np.array([0,1,2,3,15,16,32,64,128], dtype = np.uint8)\n",
        "print(np.unpackbits(i[:,np.newaxis],axis=1))\n"
      ],
      "metadata": {
        "colab": {
          "base_uri": "https://localhost:8080/"
        },
        "id": "tWJ3jPrPDsi4",
        "outputId": "6a3d373b-3c04-449a-a70c-44fccac1e5b3"
      },
      "execution_count": null,
      "outputs": [
        {
          "output_type": "stream",
          "name": "stdout",
          "text": [
            "[[0 0 0 0 0 0 0 0]\n",
            " [0 0 0 0 0 0 0 1]\n",
            " [0 0 0 0 0 0 1 0]\n",
            " [0 0 0 0 0 0 1 1]\n",
            " [0 0 0 0 1 1 1 1]\n",
            " [0 0 0 1 0 0 0 0]\n",
            " [0 0 1 0 0 0 0 0]\n",
            " [0 1 0 0 0 0 0 0]\n",
            " [1 0 0 0 0 0 0 0]]\n"
          ]
        }
      ]
    },
    {
      "cell_type": "markdown",
      "source": [
        "#### 96. Given a two dimensional array, how to extract unique rows? (★★★) \n",
        "(**hint**: np.ascontiguousarray)"
      ],
      "metadata": {
        "id": "s9dSzqRtEYB5"
      }
    },
    {
      "cell_type": "code",
      "source": [
        "a = np.random.randint(0,2,(6,3))\n",
        "t = np.ascontiguousarray(a).view(np.dtype((np.void,a.dtype.itemsize * a.shape[1])))\n",
        "_, idx = np.unique(t, return_index=True)\n",
        "d = a[idx]\n",
        "print(a)\n",
        "print('.....................')\n",
        "print(d)"
      ],
      "metadata": {
        "colab": {
          "base_uri": "https://localhost:8080/"
        },
        "id": "9_h9B2hPUY1N",
        "outputId": "dc504f8e-a498-48b8-9c9b-fb18c8163d5a"
      },
      "execution_count": null,
      "outputs": [
        {
          "output_type": "stream",
          "name": "stdout",
          "text": [
            "[[0 0 1]\n",
            " [0 1 0]\n",
            " [0 0 1]\n",
            " [1 1 1]\n",
            " [1 0 1]\n",
            " [0 0 0]]\n",
            ".....................\n",
            "[[0 0 0]\n",
            " [0 0 1]\n",
            " [0 1 0]\n",
            " [1 0 1]\n",
            " [1 1 1]]\n"
          ]
        }
      ]
    },
    {
      "cell_type": "markdown",
      "source": [
        "#### 97. Considering 2 vectors A & B, write the einsum equivalent of inner, outer, sum, and mul function (★★★) \n",
        "(**hint**: np.einsum)"
      ],
      "metadata": {
        "id": "WPPni6eaWVCn"
      }
    },
    {
      "cell_type": "code",
      "source": [
        "a = np.random.randint(0,10,4)\n",
        "b = np.random.randint(0,10,4)\n",
        "\n",
        "a1 = np.einsum('i->',a)   # np.sum(a)\n",
        "a2 = np.einsum('i,i->i',a,b) # a*b\n",
        "a3 = np.einsum('i,i',a,b) # np.inner(a,b)\n",
        "a4 = np.einsum('i,j->ij', a,b) # np.outer(a,b)\n",
        "print('a :',a,'\\n')\n",
        "print('b :',b,'\\n')\n",
        "print('............')\n",
        "print('np.sum(a)  :',a1)\n",
        "print('.......')\n",
        "print('a*b   :',a2)\n",
        "print('........')\n",
        "print('np.inner(a,b)  :',a3)\n",
        "print('........')\n",
        "print('np.outer(a,b)  :',a4)\n"
      ],
      "metadata": {
        "colab": {
          "base_uri": "https://localhost:8080/"
        },
        "id": "Jva9DHBVWemD",
        "outputId": "a8399860-74ca-42a1-efc6-c57e0a73972b"
      },
      "execution_count": null,
      "outputs": [
        {
          "output_type": "stream",
          "name": "stdout",
          "text": [
            "a : [3 6 9 3] \n",
            "\n",
            "b : [9 9 6 9] \n",
            "\n",
            "............\n",
            "np.sum(a)  : 21\n",
            ".......\n",
            "a*b   : [27 54 54 27]\n",
            "........\n",
            "np.inner(a,b)  : 162\n",
            "........\n",
            "np.outer(a,b)  : [[27 27 18 27]\n",
            " [54 54 36 54]\n",
            " [81 81 54 81]\n",
            " [27 27 18 27]]\n"
          ]
        }
      ]
    },
    {
      "cell_type": "markdown",
      "source": [
        "#### 98. Considering a path described by two vectors (X,Y), how to sample it using equidistant samples (★★★)? \n",
        "(**hint**: np.cumsum, np.interp)"
      ],
      "metadata": {
        "id": "sXSfmOjDepD3"
      }
    },
    {
      "cell_type": "code",
      "source": [
        "phi = np.arange(0,10*np.pi, 0.1)\n",
        "a = 1\n",
        "x = a*phi*np.cos(phi)\n",
        "y = a*phi*np.sin(phi)\n",
        "\n",
        "dr = (np.diff(x)**2 + np.diff(y)**2)**.5 # segment lengths\n",
        "r = np.zeros_like(x)\n",
        "r[1:] = np.cumsum(dr) # integrate path\n",
        "r_int = np.linspace(0, r.max(),200)  # regular spaced path\n",
        "x_int = np.interp(r_int,r,x)  # integrate path\n",
        "y_int = np.interp(r_int,r,y)\n",
        "\n",
        "\n"
      ],
      "metadata": {
        "id": "NYO48-7qexZR"
      },
      "execution_count": null,
      "outputs": []
    },
    {
      "cell_type": "markdown",
      "source": [
        "#### 99. Given an integer n and a 2D array X, select from X the rows which can be interpreted as draws from a multinomial distribution with n degrees, i.e., the rows which only contain integers and which sum to n. (★★★) \n",
        "(**hint**: np.logical\\_and.reduce, np.mod)"
      ],
      "metadata": {
        "id": "kK6jdyYHWzLY"
      }
    },
    {
      "cell_type": "code",
      "source": [
        "x = np.asarray([[1.0, 0.0, 3.0, 8.0],[2.0, 0.0, 1.0, 1.0],[1.5, 2.5, 1.0, 0.0]])\n",
        "print(x)\n",
        "print('..........')\n",
        "n = 4\n",
        "m =np.logical_and.reduce(np.mod(x,1) == 0, axis = -1)\n",
        "m &= (x.sum(axis= -1) == n)\n",
        "print(x[m])"
      ],
      "metadata": {
        "colab": {
          "base_uri": "https://localhost:8080/"
        },
        "id": "dhCzCKqSW0O9",
        "outputId": "8fff3654-ede8-4d4c-b545-7b66dc372b70"
      },
      "execution_count": null,
      "outputs": [
        {
          "output_type": "stream",
          "name": "stdout",
          "text": [
            "[[1.  0.  3.  8. ]\n",
            " [2.  0.  1.  1. ]\n",
            " [1.5 2.5 1.  0. ]]\n",
            "..........\n",
            "[[2. 0. 1. 1.]]\n"
          ]
        }
      ]
    },
    {
      "cell_type": "markdown",
      "source": [
        "#### 100. Compute bootstrapped 95% confidence intervals for the mean of a 1D array X (i.e., resample the elements of an array with replacement N times, compute the mean of each sample, and then compute percentiles over the means). (★★★) \n",
        "(**hint**: np.percentile)"
      ],
      "metadata": {
        "id": "rR3fO1uGYSel"
      }
    },
    {
      "cell_type": "code",
      "source": [
        "x = np.random.randn(100) # random 1d array\n",
        "n = 1000 # number of bootstrap samples\n",
        "idx = np.random.randint(0, x.size, (n,x.size))\n",
        "means = x[idx].mean(axis = 1)\n",
        "confint = np.percentile(means, [2.5, 97.5])\n",
        "print(confint) "
      ],
      "metadata": {
        "colab": {
          "base_uri": "https://localhost:8080/"
        },
        "id": "YkwI-3QeYXQp",
        "outputId": "b2958333-8b7f-46ea-bf26-1d30e12cb9bc"
      },
      "execution_count": null,
      "outputs": [
        {
          "output_type": "stream",
          "name": "stdout",
          "text": [
            "[-0.23230763  0.1366793 ]\n"
          ]
        }
      ]
    },
    {
      "cell_type": "markdown",
      "source": [
        ""
      ],
      "metadata": {
        "id": "x0DW0luMWKMM"
      }
    },
    {
      "cell_type": "markdown",
      "source": [
        ""
      ],
      "metadata": {
        "id": "_k-AEAjS60Hs"
      }
    },
    {
      "cell_type": "markdown",
      "source": [
        ""
      ],
      "metadata": {
        "id": "5xv-5zGtJE3v"
      }
    }
  ]
}