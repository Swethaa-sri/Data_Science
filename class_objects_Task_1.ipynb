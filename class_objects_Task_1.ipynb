{
  "nbformat": 4,
  "nbformat_minor": 0,
  "metadata": {
    "colab": {
      "name": "class_objects Task 1",
      "provenance": [],
      "authorship_tag": "ABX9TyPUB1Lv+NxZZVXFsnsf+59c",
      "include_colab_link": true
    },
    "kernelspec": {
      "name": "python3",
      "display_name": "Python 3"
    },
    "language_info": {
      "name": "python"
    }
  },
  "cells": [
    {
      "cell_type": "markdown",
      "metadata": {
        "id": "view-in-github",
        "colab_type": "text"
      },
      "source": [
        "<a href=\"https://colab.research.google.com/github/Swethaa-sri/Data_Science/blob/main/class_objects_Task_1.ipynb\" target=\"_parent\"><img src=\"https://colab.research.google.com/assets/colab-badge.svg\" alt=\"Open In Colab\"/></a>"
      ]
    },
    {
      "cell_type": "code",
      "metadata": {
        "id": "ooojQ_oeJg7u"
      },
      "source": [
        "class emp10:\n",
        "  def __init__(self,name,e_id,phone,address,gender):\n",
        "    self.name=name\n",
        "    self.e_id=e_id\n",
        "    self.phone=phone\n",
        "    self.address=address\n",
        "    self.gender=gender\n",
        "\n",
        "  def pt(self):\n",
        "    print(\"modification done\")\n",
        "    print(\"name : {}, e_id : {}, phone : {}, address : {}, gender : {}\".format(self.name,self.e_id,self.phone,self.address,self.gender))\n",
        "\n",
        "  def update(self):\n",
        "\n",
        "    self.name = input(\"enter name to be updated  : \")\n",
        "    \n",
        "     "
      ],
      "execution_count": null,
      "outputs": []
    },
    {
      "cell_type": "code",
      "metadata": {
        "id": "hKBGf4tlJiyb"
      },
      "source": [
        "x1=emp10(\"karthik\",\"e_01\",345678,\"Chennai\",\"m\")\n",
        "\n"
      ],
      "execution_count": null,
      "outputs": []
    },
    {
      "cell_type": "code",
      "metadata": {
        "id": "Q7V0EHIRJ3V9"
      },
      "source": [
        "x2=emp10(\"riya\",\"e_02\",34789,\"Banglore\",\"f\")"
      ],
      "execution_count": null,
      "outputs": []
    },
    {
      "cell_type": "code",
      "metadata": {
        "id": "BO1OYbuRJ9wJ"
      },
      "source": [
        "x3=emp10(\"suma\",\"e_04\",12097,\"Goa\",\"f\")\n"
      ],
      "execution_count": null,
      "outputs": []
    },
    {
      "cell_type": "code",
      "metadata": {
        "id": "pN9NfCe0KCTl"
      },
      "source": [
        "x4=emp10(\"Rajesh\",\"e_05\",90876,\"Hyderabad\",\"m\")\n"
      ],
      "execution_count": null,
      "outputs": []
    },
    {
      "cell_type": "code",
      "metadata": {
        "id": "qROFQ8zdKIAd"
      },
      "source": [
        "x5=emp10(\"Rajiv\",\"e_06\",45890,\"Vizag\",\"m\")\n"
      ],
      "execution_count": null,
      "outputs": []
    },
    {
      "cell_type": "code",
      "metadata": {
        "id": "_JZVVMsKQRM5"
      },
      "source": [
        ""
      ],
      "execution_count": null,
      "outputs": []
    },
    {
      "cell_type": "code",
      "metadata": {
        "colab": {
          "base_uri": "https://localhost:8080/"
        },
        "id": "gH1PJ5apV59E",
        "outputId": "e5649d23-bb4a-4900-dc5a-2a7d99202315"
      },
      "source": [
        "e = input(\"enter name  : \")\n",
        "p = input(\"employee id : \")\n",
        "x = [x1,x2,x3,x4,x5]\n",
        "i=0\n",
        "while i < len(x):\n",
        "  if e==x[i].name and p==x[i].e_id:\n",
        "\n",
        "    print(\"are you sure you want to modify\",\" \",x[i].name,\" \",\"with phone no\",\" \",x[i].phone, \" \",\"and employee id \", x[i].e_id)\n",
        "    x[i].update()\n",
        "    x[i].pt()  \n",
        "    print(\"Thank You\") \n",
        "    break;\n",
        "  \n",
        "  i=i+1\n",
        "\n",
        "else:\n",
        "    print(\"Match not found\")\n",
        "\n",
        "\n"
      ],
      "execution_count": null,
      "outputs": [
        {
          "output_type": "stream",
          "name": "stdout",
          "text": [
            "enter name  : rita\n",
            "employee id : e_02\n",
            "are you sure you want to modify   rita   with phone no   34789   and employee id  e_02\n",
            "enter name to be updated  : riya\n",
            "modification done\n",
            "name : riya, e_id : e_02, phone : 34789, address : Banglore, gender : f\n",
            "Thank You\n"
          ]
        }
      ]
    },
    {
      "cell_type": "code",
      "metadata": {
        "id": "XhHKue_f0NXS"
      },
      "source": [
        ""
      ],
      "execution_count": null,
      "outputs": []
    }
  ]
}